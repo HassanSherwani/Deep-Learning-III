{
 "cells": [
  {
   "cell_type": "markdown",
   "metadata": {},
   "source": [
    "# Recurrent Neural Networks"
   ]
  },
  {
   "cell_type": "markdown",
   "metadata": {},
   "source": [
    "# 1)-Import key modules"
   ]
  },
  {
   "cell_type": "code",
   "execution_count": 1,
   "metadata": {},
   "outputs": [
    {
     "name": "stderr",
     "output_type": "stream",
     "text": [
      "Using TensorFlow backend.\n"
     ]
    }
   ],
   "source": [
    "import numpy as np\n",
    "import pandas as pd\n",
    "import math\n",
    "import os\n",
    "\n",
    "from keras.models import Sequential\n",
    "from keras.layers import Dense, Flatten\n",
    "from keras.layers import LSTM, SimpleRNN, Dropout\n",
    "\n",
    "import matplotlib.pyplot as plt\n",
    "%matplotlib inline"
   ]
  },
  {
   "cell_type": "markdown",
   "metadata": {},
   "source": [
    "# 2)- Loading data"
   ]
  },
  {
   "cell_type": "code",
   "execution_count": 2,
   "metadata": {},
   "outputs": [
    {
     "name": "stderr",
     "output_type": "stream",
     "text": [
      "C:\\Users\\69785hsh\\AppData\\Roaming\\Python\\Python36\\site-packages\\ipykernel_launcher.py:1: ParserWarning: Falling back to the 'python' engine because the 'c' engine does not support skipfooter; you can avoid this warning by specifying engine='python'.\n",
      "  \"\"\"Entry point for launching an IPython kernel.\n"
     ]
    }
   ],
   "source": [
    "dataset = pd.read_csv('international-airline-passengers.csv',skipfooter=5)"
   ]
  },
  {
   "cell_type": "code",
   "execution_count": 3,
   "metadata": {},
   "outputs": [
    {
     "data": {
      "text/html": [
       "<div>\n",
       "<style scoped>\n",
       "    .dataframe tbody tr th:only-of-type {\n",
       "        vertical-align: middle;\n",
       "    }\n",
       "\n",
       "    .dataframe tbody tr th {\n",
       "        vertical-align: top;\n",
       "    }\n",
       "\n",
       "    .dataframe thead th {\n",
       "        text-align: right;\n",
       "    }\n",
       "</style>\n",
       "<table border=\"1\" class=\"dataframe\">\n",
       "  <thead>\n",
       "    <tr style=\"text-align: right;\">\n",
       "      <th></th>\n",
       "      <th>Month</th>\n",
       "      <th>passengers</th>\n",
       "    </tr>\n",
       "  </thead>\n",
       "  <tbody>\n",
       "    <tr>\n",
       "      <th>0</th>\n",
       "      <td>1949-01</td>\n",
       "      <td>112</td>\n",
       "    </tr>\n",
       "    <tr>\n",
       "      <th>1</th>\n",
       "      <td>1949-02</td>\n",
       "      <td>118</td>\n",
       "    </tr>\n",
       "    <tr>\n",
       "      <th>2</th>\n",
       "      <td>1949-03</td>\n",
       "      <td>132</td>\n",
       "    </tr>\n",
       "    <tr>\n",
       "      <th>3</th>\n",
       "      <td>1949-04</td>\n",
       "      <td>129</td>\n",
       "    </tr>\n",
       "    <tr>\n",
       "      <th>4</th>\n",
       "      <td>1949-05</td>\n",
       "      <td>121</td>\n",
       "    </tr>\n",
       "  </tbody>\n",
       "</table>\n",
       "</div>"
      ],
      "text/plain": [
       "     Month  passengers\n",
       "0  1949-01         112\n",
       "1  1949-02         118\n",
       "2  1949-03         132\n",
       "3  1949-04         129\n",
       "4  1949-05         121"
      ]
     },
     "execution_count": 3,
     "metadata": {},
     "output_type": "execute_result"
    }
   ],
   "source": [
    "dataset.head()"
   ]
  },
  {
   "cell_type": "markdown",
   "metadata": {},
   "source": [
    "# 3)- Exploring data"
   ]
  },
  {
   "cell_type": "code",
   "execution_count": 4,
   "metadata": {},
   "outputs": [
    {
     "name": "stdout",
     "output_type": "stream",
     "text": [
      "<class 'pandas.core.frame.DataFrame'>\n",
      "RangeIndex: 139 entries, 0 to 138\n",
      "Data columns (total 2 columns):\n",
      "Month         139 non-null object\n",
      "passengers    139 non-null int64\n",
      "dtypes: int64(1), object(1)\n",
      "memory usage: 2.2+ KB\n"
     ]
    }
   ],
   "source": [
    "dataset.info()"
   ]
  },
  {
   "cell_type": "code",
   "execution_count": 5,
   "metadata": {},
   "outputs": [
    {
     "data": {
      "text/html": [
       "<div>\n",
       "<style scoped>\n",
       "    .dataframe tbody tr th:only-of-type {\n",
       "        vertical-align: middle;\n",
       "    }\n",
       "\n",
       "    .dataframe tbody tr th {\n",
       "        vertical-align: top;\n",
       "    }\n",
       "\n",
       "    .dataframe thead th {\n",
       "        text-align: right;\n",
       "    }\n",
       "</style>\n",
       "<table border=\"1\" class=\"dataframe\">\n",
       "  <thead>\n",
       "    <tr style=\"text-align: right;\">\n",
       "      <th></th>\n",
       "      <th>passengers</th>\n",
       "    </tr>\n",
       "  </thead>\n",
       "  <tbody>\n",
       "    <tr>\n",
       "      <th>count</th>\n",
       "      <td>139.000000</td>\n",
       "    </tr>\n",
       "    <tr>\n",
       "      <th>mean</th>\n",
       "      <td>273.136691</td>\n",
       "    </tr>\n",
       "    <tr>\n",
       "      <th>std</th>\n",
       "      <td>115.007385</td>\n",
       "    </tr>\n",
       "    <tr>\n",
       "      <th>min</th>\n",
       "      <td>104.000000</td>\n",
       "    </tr>\n",
       "    <tr>\n",
       "      <th>25%</th>\n",
       "      <td>179.000000</td>\n",
       "    </tr>\n",
       "    <tr>\n",
       "      <th>50%</th>\n",
       "      <td>259.000000</td>\n",
       "    </tr>\n",
       "    <tr>\n",
       "      <th>75%</th>\n",
       "      <td>355.000000</td>\n",
       "    </tr>\n",
       "    <tr>\n",
       "      <th>max</th>\n",
       "      <td>622.000000</td>\n",
       "    </tr>\n",
       "  </tbody>\n",
       "</table>\n",
       "</div>"
      ],
      "text/plain": [
       "       passengers\n",
       "count  139.000000\n",
       "mean   273.136691\n",
       "std    115.007385\n",
       "min    104.000000\n",
       "25%    179.000000\n",
       "50%    259.000000\n",
       "75%    355.000000\n",
       "max    622.000000"
      ]
     },
     "execution_count": 5,
     "metadata": {},
     "output_type": "execute_result"
    }
   ],
   "source": [
    "dataset.describe()"
   ]
  },
  {
   "cell_type": "code",
   "execution_count": 6,
   "metadata": {},
   "outputs": [],
   "source": [
    "# assign to just passenger number to this new smaller data.\n",
    "data = dataset.iloc[:,1].values"
   ]
  },
  {
   "cell_type": "code",
   "execution_count": 7,
   "metadata": {},
   "outputs": [
    {
     "data": {
      "image/png": "[encoded data removed]",
      "text/plain": [
       "<matplotlib.figure.Figure at 0x28986ebc828>"
      ]
     },
     "metadata": {
      "needs_background": "light"
     },
     "output_type": "display_data"
    }
   ],
   "source": [
    "plt.plot(data)\n",
    "plt.xlabel(\"Time\")\n",
    "plt.ylabel(\"Number of Passengers\")\n",
    "plt.title(\"International Airline Passengers\")\n",
    "plt.show()"
   ]
  },
  {
   "cell_type": "code",
   "execution_count": 8,
   "metadata": {},
   "outputs": [
    {
     "data": {
      "text/plain": [
       "(139,)"
      ]
     },
     "execution_count": 8,
     "metadata": {},
     "output_type": "execute_result"
    }
   ],
   "source": [
    "data.shape"
   ]
  },
  {
   "cell_type": "code",
   "execution_count": 9,
   "metadata": {},
   "outputs": [
    {
     "data": {
      "text/plain": [
       "(139, 1)"
      ]
     },
     "execution_count": 9,
     "metadata": {},
     "output_type": "execute_result"
    }
   ],
   "source": [
    "# As you can see; shape of data is (142,). We should reshape it.\n",
    "data =data.reshape(-1,1)\n",
    "data.astype(\"float32\")\n",
    "data.shape"
   ]
  },
  {
   "cell_type": "code",
   "execution_count": 10,
   "metadata": {},
   "outputs": [
    {
     "name": "stderr",
     "output_type": "stream",
     "text": [
      "C:\\Users\\69785hsh\\AppData\\Roaming\\Python\\Python36\\site-packages\\sklearn\\utils\\validation.py:595: DataConversionWarning: Data with input dtype int64 was converted to float64 by MinMaxScaler.\n",
      "  warnings.warn(msg, DataConversionWarning)\n"
     ]
    }
   ],
   "source": [
    "# After reshaping, we should scale all of datas between 0 and 1.\n",
    "from sklearn.preprocessing import MinMaxScaler #import scling library\n",
    "scaler = MinMaxScaler(feature_range=(0,1))\n",
    "data_scaled = scaler.fit_transform(data)"
   ]
  },
  {
   "cell_type": "code",
   "execution_count": 11,
   "metadata": {},
   "outputs": [
    {
     "data": {
      "text/plain": [
       "array([[0.01544402],\n",
       "       [0.02702703],\n",
       "       [0.05405405],\n",
       "       [0.04826255],\n",
       "       [0.03281853]])"
      ]
     },
     "execution_count": 11,
     "metadata": {},
     "output_type": "execute_result"
    }
   ],
   "source": [
    "data_scaled[:5]"
   ]
  },
  {
   "cell_type": "code",
   "execution_count": 12,
   "metadata": {},
   "outputs": [
    {
     "name": "stdout",
     "output_type": "stream",
     "text": [
      "Train data size is 69\n",
      "Test data size is 70\n"
     ]
    }
   ],
   "source": [
    "train_data_size = int(len(data_scaled)*0.50)\n",
    "test_data_size = len(data_scaled) - train_data_size\n",
    "print(\"Train data size is {}\".format(train_data_size))\n",
    "print(\"Test data size is {}\".format(test_data_size))"
   ]
  },
  {
   "cell_type": "code",
   "execution_count": 13,
   "metadata": {},
   "outputs": [
    {
     "name": "stdout",
     "output_type": "stream",
     "text": [
      "Train data size is 69\n",
      "Test data size is 70\n"
     ]
    }
   ],
   "source": [
    "train = data_scaled[0:train_data_size,:]\n",
    "test = data_scaled[train_data_size:len(data_scaled),:]\n",
    "# Let's check number of train and test datas again\n",
    "print(\"Train data size is {}\".format(len(train)))\n",
    "print(\"Test data size is {}\".format(len(test)))"
   ]
  },
  {
   "cell_type": "code",
   "execution_count": 14,
   "metadata": {},
   "outputs": [],
   "source": [
    "x_train = []\n",
    "y_train = []\n",
    "time_steps=10\n",
    "for i in range(len(train)-time_steps-1):\n",
    "    a = train[i:(i+time_steps),0]\n",
    "    x_train.append(a)\n",
    "    y_train.append(train[i + time_steps,0])\n",
    "trainX = np.array(x_train)\n",
    "trainY = np.array(y_train)"
   ]
  },
  {
   "cell_type": "code",
   "execution_count": 15,
   "metadata": {},
   "outputs": [
    {
     "data": {
      "text/plain": [
       "(58, 10)"
      ]
     },
     "execution_count": 15,
     "metadata": {},
     "output_type": "execute_result"
    }
   ],
   "source": [
    "trainX.shape"
   ]
  },
  {
   "cell_type": "code",
   "execution_count": 16,
   "metadata": {},
   "outputs": [],
   "source": [
    "x_test = []\n",
    "y_test = []\n",
    "for i in range(len(test)-time_steps-1):\n",
    "    a = test[i:(i+time_steps),0]\n",
    "    x_test.append(a)\n",
    "    y_test.append(test[i + time_steps,0])\n",
    "testX = np.array(x_test)\n",
    "testY = np.array(y_test)"
   ]
  },
  {
   "cell_type": "code",
   "execution_count": 17,
   "metadata": {},
   "outputs": [
    {
     "data": {
      "text/plain": [
       "(59, 10)"
      ]
     },
     "execution_count": 17,
     "metadata": {},
     "output_type": "execute_result"
    }
   ],
   "source": [
    "testX.shape"
   ]
  },
  {
   "cell_type": "code",
   "execution_count": 18,
   "metadata": {
    "scrolled": true
   },
   "outputs": [
    {
     "name": "stdout",
     "output_type": "stream",
     "text": [
      "Shape of trainX is (58, 10, 1)\n",
      "Shape of testX is (59, 10, 1)\n"
     ]
    }
   ],
   "source": [
    "# Let's reshape trainX and testX\n",
    "trainX = np.reshape(trainX, (trainX.shape[0], trainX.shape[1],1))\n",
    "testX = np.reshape(testX, (testX.shape[0],testX.shape[1],1))\n",
    "# Print and check shapes\n",
    "print(\"Shape of trainX is {}\".format(trainX.shape))\n",
    "print(\"Shape of testX is {}\".format(testX.shape))"
   ]
  },
  {
   "cell_type": "markdown",
   "metadata": {},
   "source": [
    "# RNN model"
   ]
  },
  {
   "cell_type": "code",
   "execution_count": 19,
   "metadata": {},
   "outputs": [],
   "source": [
    "from keras.layers import Dense, SimpleRNN, Dropout\n",
    "from keras.metrics import mean_squared_error\n",
    "from keras.models import Sequential"
   ]
  },
  {
   "cell_type": "markdown",
   "metadata": {},
   "source": [
    "### Initializing RNN"
   ]
  },
  {
   "cell_type": "code",
   "execution_count": 20,
   "metadata": {},
   "outputs": [
    {
     "name": "stdout",
     "output_type": "stream",
     "text": [
      "WARNING:tensorflow:From C:\\Program Files\\Anaconda3\\lib\\site-packages\\tensorflow\\python\\framework\\op_def_library.py:263: colocate_with (from tensorflow.python.framework.ops) is deprecated and will be removed in a future version.\n",
      "Instructions for updating:\n",
      "Colocations handled automatically by placer.\n",
      "WARNING:tensorflow:From C:\\Users\\69785hsh\\AppData\\Roaming\\Python\\Python36\\site-packages\\keras\\backend\\tensorflow_backend.py:3445: calling dropout (from tensorflow.python.ops.nn_ops) with keep_prob is deprecated and will be removed in a future version.\n",
      "Instructions for updating:\n",
      "Please use `rate` instead of `keep_prob`. Rate should be set to `rate = 1 - keep_prob`.\n"
     ]
    }
   ],
   "source": [
    "model = Sequential()\n",
    "# Add the first layer and Dropout regularization\n",
    "model.add(SimpleRNN(units=100,activation='tanh',return_sequences=True, \n",
    "                    input_shape=(trainX.shape[1],1)))\n",
    "model.add(Dropout(0.20))\n",
    "# Second layer and Dropout regularization\n",
    "model.add(SimpleRNN(units = 100, activation='tanh',return_sequences=True))\n",
    "model.add(Dropout(0.20))\n",
    "# Third layer and Dropout regularization\n",
    "model.add(SimpleRNN(units = 70, activation='tanh', return_sequences= True))\n",
    "model.add(Dropout(0.20))\n",
    "# Fourth layer and Dropout regularization\n",
    "model.add(SimpleRNN(units = 50))\n",
    "model.add(Dropout(0.20))\n",
    "# Add final or output layer\n",
    "model.add(Dense(units=1))"
   ]
  },
  {
   "cell_type": "code",
   "execution_count": 21,
   "metadata": {},
   "outputs": [],
   "source": [
    "# Compile our RNN model\n",
    "model.compile(optimizer = 'adam', loss = 'mean_squared_error')"
   ]
  },
  {
   "cell_type": "code",
   "execution_count": 22,
   "metadata": {},
   "outputs": [
    {
     "name": "stdout",
     "output_type": "stream",
     "text": [
      "_________________________________________________________________\n",
      "Layer (type)                 Output Shape              Param #   \n",
      "=================================================================\n",
      "simple_rnn_1 (SimpleRNN)     (None, 10, 100)           10200     \n",
      "_________________________________________________________________\n",
      "dropout_1 (Dropout)          (None, 10, 100)           0         \n",
      "_________________________________________________________________\n",
      "simple_rnn_2 (SimpleRNN)     (None, 10, 100)           20100     \n",
      "_________________________________________________________________\n",
      "dropout_2 (Dropout)          (None, 10, 100)           0         \n",
      "_________________________________________________________________\n",
      "simple_rnn_3 (SimpleRNN)     (None, 10, 70)            11970     \n",
      "_________________________________________________________________\n",
      "dropout_3 (Dropout)          (None, 10, 70)            0         \n",
      "_________________________________________________________________\n",
      "simple_rnn_4 (SimpleRNN)     (None, 50)                6050      \n",
      "_________________________________________________________________\n",
      "dropout_4 (Dropout)          (None, 50)                0         \n",
      "_________________________________________________________________\n",
      "dense_1 (Dense)              (None, 1)                 51        \n",
      "=================================================================\n",
      "Total params: 48,371\n",
      "Trainable params: 48,371\n",
      "Non-trainable params: 0\n",
      "_________________________________________________________________\n"
     ]
    }
   ],
   "source": [
    "model.summary()"
   ]
  },
  {
   "cell_type": "markdown",
   "metadata": {},
   "source": [
    "### Fitting the RNN to the training set"
   ]
  },
  {
   "cell_type": "code",
   "execution_count": 23,
   "metadata": {
    "scrolled": false
   },
   "outputs": [
    {
     "name": "stdout",
     "output_type": "stream",
     "text": [
      "WARNING:tensorflow:From C:\\Program Files\\Anaconda3\\lib\\site-packages\\tensorflow\\python\\ops\\math_ops.py:3066: to_int32 (from tensorflow.python.ops.math_ops) is deprecated and will be removed in a future version.\n",
      "Instructions for updating:\n",
      "Use tf.cast instead.\n",
      "Epoch 1/200\n",
      "58/58 [==============================] - 1s 10ms/step - loss: 1.0969\n",
      "Epoch 2/200\n",
      "58/58 [==============================] - 0s 207us/step - loss: 0.5057\n",
      "Epoch 3/200\n",
      "58/58 [==============================] - 0s 286us/step - loss: 0.4486\n",
      "Epoch 4/200\n",
      "58/58 [==============================] - 0s 398us/step - loss: 0.4432\n",
      "Epoch 5/200\n",
      "58/58 [==============================] - 0s 296us/step - loss: 0.2361\n",
      "Epoch 6/200\n",
      "58/58 [==============================] - 0s 325us/step - loss: 0.3004\n",
      "Epoch 7/200\n",
      "58/58 [==============================] - 0s 360us/step - loss: 0.2088\n",
      "Epoch 8/200\n",
      "58/58 [==============================] - 0s 405us/step - loss: 0.1640\n",
      "Epoch 9/200\n",
      "58/58 [==============================] - 0s 390us/step - loss: 0.2197\n",
      "Epoch 10/200\n",
      "58/58 [==============================] - 0s 274us/step - loss: 0.1777\n",
      "Epoch 11/200\n",
      "58/58 [==============================] - 0s 230us/step - loss: 0.1824\n",
      "Epoch 12/200\n",
      "58/58 [==============================] - 0s 334us/step - loss: 0.1326\n",
      "Epoch 13/200\n",
      "58/58 [==============================] - 0s 291us/step - loss: 0.1506\n",
      "Epoch 14/200\n",
      "58/58 [==============================] - 0s 307us/step - loss: 0.1210\n",
      "Epoch 15/200\n",
      "58/58 [==============================] - 0s 303us/step - loss: 0.1086\n",
      "Epoch 16/200\n",
      "58/58 [==============================] - 0s 322us/step - loss: 0.0957\n",
      "Epoch 17/200\n",
      "58/58 [==============================] - 0s 323us/step - loss: 0.0725\n",
      "Epoch 18/200\n",
      "58/58 [==============================] - 0s 341us/step - loss: 0.0758\n",
      "Epoch 19/200\n",
      "58/58 [==============================] - 0s 345us/step - loss: 0.1167\n",
      "Epoch 20/200\n",
      "58/58 [==============================] - 0s 276us/step - loss: 0.0808\n",
      "Epoch 21/200\n",
      "58/58 [==============================] - 0s 345us/step - loss: 0.0934\n",
      "Epoch 22/200\n",
      "58/58 [==============================] - 0s 276us/step - loss: 0.0857\n",
      "Epoch 23/200\n",
      "58/58 [==============================] - 0s 276us/step - loss: 0.0925\n",
      "Epoch 24/200\n",
      "58/58 [==============================] - 0s 276us/step - loss: 0.0503\n",
      "Epoch 25/200\n",
      "58/58 [==============================] - 0s 276us/step - loss: 0.0796\n",
      "Epoch 26/200\n",
      "58/58 [==============================] - 0s 340us/step - loss: 0.0703\n",
      "Epoch 27/200\n",
      "58/58 [==============================] - 0s 345us/step - loss: 0.0551\n",
      "Epoch 28/200\n",
      "58/58 [==============================] - 0s 414us/step - loss: 0.0576\n",
      "Epoch 29/200\n",
      "58/58 [==============================] - 0s 345us/step - loss: 0.0638\n",
      "Epoch 30/200\n",
      "58/58 [==============================] - 0s 345us/step - loss: 0.0553\n",
      "Epoch 31/200\n",
      "58/58 [==============================] - 0s 345us/step - loss: 0.0815\n",
      "Epoch 32/200\n",
      "58/58 [==============================] - 0s 302us/step - loss: 0.0355\n",
      "Epoch 33/200\n",
      "58/58 [==============================] - 0s 345us/step - loss: 0.0644\n",
      "Epoch 34/200\n",
      "58/58 [==============================] - 0s 414us/step - loss: 0.0293\n",
      "Epoch 35/200\n",
      "58/58 [==============================] - 0s 398us/step - loss: 0.0643\n",
      "Epoch 36/200\n",
      "58/58 [==============================] - 0s 320us/step - loss: 0.0634\n",
      "Epoch 37/200\n",
      "58/58 [==============================] - 0s 328us/step - loss: 0.0471\n",
      "Epoch 38/200\n",
      "58/58 [==============================] - 0s 332us/step - loss: 0.0680\n",
      "Epoch 39/200\n",
      "58/58 [==============================] - 0s 346us/step - loss: 0.0342\n",
      "Epoch 40/200\n",
      "58/58 [==============================] - 0s 277us/step - loss: 0.0282\n",
      "Epoch 41/200\n",
      "58/58 [==============================] - 0s 379us/step - loss: 0.0343\n",
      "Epoch 42/200\n",
      "58/58 [==============================] - 0s 346us/step - loss: 0.0255\n",
      "Epoch 43/200\n",
      "58/58 [==============================] - 0s 404us/step - loss: 0.0388\n",
      "Epoch 44/200\n",
      "58/58 [==============================] - 0s 303us/step - loss: 0.0261\n",
      "Epoch 45/200\n",
      "58/58 [==============================] - 0s 372us/step - loss: 0.0382\n",
      "Epoch 46/200\n",
      "58/58 [==============================] - 0s 398us/step - loss: 0.0483\n",
      "Epoch 47/200\n",
      "58/58 [==============================] - 0s 432us/step - loss: 0.0444\n",
      "Epoch 48/200\n",
      "58/58 [==============================] - 0s 428us/step - loss: 0.0345\n",
      "Epoch 49/200\n",
      "58/58 [==============================] - 0s 303us/step - loss: 0.0288\n",
      "Epoch 50/200\n",
      "58/58 [==============================] - 0s 294us/step - loss: 0.0363\n",
      "Epoch 51/200\n",
      "58/58 [==============================] - 0s 265us/step - loss: 0.0295\n",
      "Epoch 52/200\n",
      "58/58 [==============================] - 0s 345us/step - loss: 0.0283\n",
      "Epoch 53/200\n",
      "58/58 [==============================] - 0s 276us/step - loss: 0.0233\n",
      "Epoch 54/200\n",
      "58/58 [==============================] - 0s 345us/step - loss: 0.0270\n",
      "Epoch 55/200\n",
      "58/58 [==============================] - 0s 276us/step - loss: 0.0269\n",
      "Epoch 56/200\n",
      "58/58 [==============================] - 0s 276us/step - loss: 0.0148\n",
      "Epoch 57/200\n",
      "58/58 [==============================] - 0s 276us/step - loss: 0.0215\n",
      "Epoch 58/200\n",
      "58/58 [==============================] - 0s 207us/step - loss: 0.0277\n",
      "Epoch 59/200\n",
      "58/58 [==============================] - 0s 276us/step - loss: 0.0259\n",
      "Epoch 60/200\n",
      "58/58 [==============================] - 0s 276us/step - loss: 0.0258\n",
      "Epoch 61/200\n",
      "58/58 [==============================] - 0s 276us/step - loss: 0.0257\n",
      "Epoch 62/200\n",
      "58/58 [==============================] - 0s 276us/step - loss: 0.0254\n",
      "Epoch 63/200\n",
      "58/58 [==============================] - 0s 345us/step - loss: 0.0159\n",
      "Epoch 64/200\n",
      "58/58 [==============================] - 0s 345us/step - loss: 0.0286\n",
      "Epoch 65/200\n",
      "58/58 [==============================] - 0s 345us/step - loss: 0.0233\n",
      "Epoch 66/200\n",
      "58/58 [==============================] - 0s 414us/step - loss: 0.0191\n",
      "Epoch 67/200\n",
      "58/58 [==============================] - 0s 276us/step - loss: 0.0218\n",
      "Epoch 68/200\n",
      "58/58 [==============================] - 0s 345us/step - loss: 0.0181\n",
      "Epoch 69/200\n",
      "58/58 [==============================] - 0s 276us/step - loss: 0.0167\n",
      "Epoch 70/200\n",
      "58/58 [==============================] - 0s 276us/step - loss: 0.0183\n",
      "Epoch 71/200\n",
      "58/58 [==============================] - 0s 276us/step - loss: 0.0205\n",
      "Epoch 72/200\n",
      "58/58 [==============================] - 0s 345us/step - loss: 0.0196\n",
      "Epoch 73/200\n",
      "58/58 [==============================] - 0s 276us/step - loss: 0.0217\n",
      "Epoch 74/200\n",
      "58/58 [==============================] - 0s 345us/step - loss: 0.0192\n",
      "Epoch 75/200\n",
      "58/58 [==============================] - 0s 414us/step - loss: 0.0240\n",
      "Epoch 76/200\n",
      "58/58 [==============================] - 0s 276us/step - loss: 0.0195\n",
      "Epoch 77/200\n",
      "58/58 [==============================] - 0s 276us/step - loss: 0.0212\n",
      "Epoch 78/200\n",
      "58/58 [==============================] - 0s 276us/step - loss: 0.0158\n",
      "Epoch 79/200\n",
      "58/58 [==============================] - 0s 326us/step - loss: 0.0270\n",
      "Epoch 80/200\n",
      "58/58 [==============================] - 0s 250us/step - loss: 0.0147\n",
      "Epoch 81/200\n",
      "58/58 [==============================] - 0s 276us/step - loss: 0.0106\n",
      "Epoch 82/200\n",
      "58/58 [==============================] - 0s 276us/step - loss: 0.0243\n",
      "Epoch 83/200\n",
      "58/58 [==============================] - 0s 345us/step - loss: 0.0180\n",
      "Epoch 84/200\n",
      "58/58 [==============================] - 0s 316us/step - loss: 0.0131\n",
      "Epoch 85/200\n",
      "58/58 [==============================] - 0s 276us/step - loss: 0.0203\n",
      "Epoch 86/200\n",
      "58/58 [==============================] - 0s 352us/step - loss: 0.0138\n",
      "Epoch 87/200\n",
      "58/58 [==============================] - 0s 277us/step - loss: 0.0123\n",
      "Epoch 88/200\n",
      "58/58 [==============================] - 0s 277us/step - loss: 0.0128\n",
      "Epoch 89/200\n",
      "58/58 [==============================] - 0s 380us/step - loss: 0.0143\n",
      "Epoch 90/200\n",
      "58/58 [==============================] - 0s 417us/step - loss: 0.0219\n",
      "Epoch 91/200\n",
      "58/58 [==============================] - 0s 337us/step - loss: 0.0143\n",
      "Epoch 92/200\n",
      "58/58 [==============================] - 0s 277us/step - loss: 0.0072\n",
      "Epoch 93/200\n",
      "58/58 [==============================] - 0s 277us/step - loss: 0.0115\n",
      "Epoch 94/200\n",
      "58/58 [==============================] - 0s 259us/step - loss: 0.0185\n",
      "Epoch 95/200\n",
      "58/58 [==============================] - 0s 242us/step - loss: 0.0152\n",
      "Epoch 96/200\n"
     ]
    },
    {
     "name": "stdout",
     "output_type": "stream",
     "text": [
      "58/58 [==============================] - 0s 277us/step - loss: 0.0115\n",
      "Epoch 97/200\n",
      "58/58 [==============================] - 0s 277us/step - loss: 0.0151\n",
      "Epoch 98/200\n",
      "58/58 [==============================] - 0s 259us/step - loss: 0.0148\n",
      "Epoch 99/200\n",
      "58/58 [==============================] - 0s 259us/step - loss: 0.0111\n",
      "Epoch 100/200\n",
      "58/58 [==============================] - 0s 277us/step - loss: 0.0087\n",
      "Epoch 101/200\n",
      "58/58 [==============================] - 0s 277us/step - loss: 0.0138\n",
      "Epoch 102/200\n",
      "58/58 [==============================] - 0s 277us/step - loss: 0.0077\n",
      "Epoch 103/200\n",
      "58/58 [==============================] - 0s 294us/step - loss: 0.0098\n",
      "Epoch 104/200\n",
      "58/58 [==============================] - 0s 363us/step - loss: 0.0117\n",
      "Epoch 105/200\n",
      "58/58 [==============================] - 0s 253us/step - loss: 0.0106\n",
      "Epoch 106/200\n",
      "58/58 [==============================] - 0s 276us/step - loss: 0.0133\n",
      "Epoch 107/200\n",
      "58/58 [==============================] - 0s 276us/step - loss: 0.0154\n",
      "Epoch 108/200\n",
      "58/58 [==============================] - 0s 345us/step - loss: 0.0188\n",
      "Epoch 109/200\n",
      "58/58 [==============================] - 0s 275us/step - loss: 0.0120\n",
      "Epoch 110/200\n",
      "58/58 [==============================] - 0s 276us/step - loss: 0.0162\n",
      "Epoch 111/200\n",
      "58/58 [==============================] - 0s 414us/step - loss: 0.0162\n",
      "Epoch 112/200\n",
      "58/58 [==============================] - 0s 345us/step - loss: 0.0063\n",
      "Epoch 113/200\n",
      "58/58 [==============================] - 0s 276us/step - loss: 0.0110\n",
      "Epoch 114/200\n",
      "58/58 [==============================] - 0s 276us/step - loss: 0.0122\n",
      "Epoch 115/200\n",
      "58/58 [==============================] - 0s 345us/step - loss: 0.0092\n",
      "Epoch 116/200\n",
      "58/58 [==============================] - 0s 345us/step - loss: 0.0096\n",
      "Epoch 117/200\n",
      "58/58 [==============================] - 0s 276us/step - loss: 0.0110\n",
      "Epoch 118/200\n",
      "58/58 [==============================] - 0s 276us/step - loss: 0.0122\n",
      "Epoch 119/200\n",
      "58/58 [==============================] - 0s 345us/step - loss: 0.0142\n",
      "Epoch 120/200\n",
      "58/58 [==============================] - 0s 345us/step - loss: 0.0106\n",
      "Epoch 121/200\n",
      "58/58 [==============================] - 0s 276us/step - loss: 0.0068\n",
      "Epoch 122/200\n",
      "58/58 [==============================] - 0s 276us/step - loss: 0.0145\n",
      "Epoch 123/200\n",
      "58/58 [==============================] - 0s 276us/step - loss: 0.0062\n",
      "Epoch 124/200\n",
      "58/58 [==============================] - 0s 345us/step - loss: 0.0082\n",
      "Epoch 125/200\n",
      "58/58 [==============================] - 0s 316us/step - loss: 0.0072\n",
      "Epoch 126/200\n",
      "58/58 [==============================] - 0s 311us/step - loss: 0.0086\n",
      "Epoch 127/200\n",
      "58/58 [==============================] - 0s 345us/step - loss: 0.0109\n",
      "Epoch 128/200\n",
      "58/58 [==============================] - 0s 414us/step - loss: 0.0104\n",
      "Epoch 129/200\n",
      "58/58 [==============================] - 0s 276us/step - loss: 0.0084\n",
      "Epoch 130/200\n",
      "58/58 [==============================] - 0s 276us/step - loss: 0.0126\n",
      "Epoch 131/200\n",
      "58/58 [==============================] - 0s 276us/step - loss: 0.0081\n",
      "Epoch 132/200\n",
      "58/58 [==============================] - 0s 415us/step - loss: 0.0082\n",
      "Epoch 133/200\n",
      "58/58 [==============================] - 0s 413us/step - loss: 0.0092\n",
      "Epoch 134/200\n",
      "58/58 [==============================] - 0s 276us/step - loss: 0.0077\n",
      "Epoch 135/200\n",
      "58/58 [==============================] - 0s 276us/step - loss: 0.0124\n",
      "Epoch 136/200\n",
      "58/58 [==============================] - 0s 276us/step - loss: 0.0072\n",
      "Epoch 137/200\n",
      "58/58 [==============================] - 0s 243us/step - loss: 0.0110\n",
      "Epoch 138/200\n",
      "58/58 [==============================] - 0s 483us/step - loss: 0.0132\n",
      "Epoch 139/200\n",
      "58/58 [==============================] - 0s 363us/step - loss: 0.0117\n",
      "Epoch 140/200\n",
      "58/58 [==============================] - 0s 418us/step - loss: 0.0104\n",
      "Epoch 141/200\n",
      "58/58 [==============================] - 0s 328us/step - loss: 0.0114\n",
      "Epoch 142/200\n",
      "58/58 [==============================] - 0s 380us/step - loss: 0.0157\n",
      "Epoch 143/200\n",
      "58/58 [==============================] - 0s 388us/step - loss: 0.0071\n",
      "Epoch 144/200\n",
      "58/58 [==============================] - 0s 401us/step - loss: 0.0105\n",
      "Epoch 145/200\n",
      "58/58 [==============================] - 0s 380us/step - loss: 0.0064\n",
      "Epoch 146/200\n",
      "58/58 [==============================] - 0s 326us/step - loss: 0.0095\n",
      "Epoch 147/200\n",
      "58/58 [==============================] - 0s 338us/step - loss: 0.0059\n",
      "Epoch 148/200\n",
      "58/58 [==============================] - 0s 345us/step - loss: 0.0089\n",
      "Epoch 149/200\n",
      "58/58 [==============================] - 0s 295us/step - loss: 0.0085\n",
      "Epoch 150/200\n",
      "58/58 [==============================] - 0s 391us/step - loss: 0.0108\n",
      "Epoch 151/200\n",
      "58/58 [==============================] - 0s 345us/step - loss: 0.0078\n",
      "Epoch 152/200\n",
      "58/58 [==============================] - 0s 338us/step - loss: 0.0081\n",
      "Epoch 153/200\n",
      "58/58 [==============================] - 0s 373us/step - loss: 0.0098\n",
      "Epoch 154/200\n",
      "58/58 [==============================] - 0s 415us/step - loss: 0.0093\n",
      "Epoch 155/200\n",
      "58/58 [==============================] - 0s 344us/step - loss: 0.0096\n",
      "Epoch 156/200\n",
      "58/58 [==============================] - 0s 354us/step - loss: 0.0091\n",
      "Epoch 157/200\n",
      "58/58 [==============================] - ETA: 0s - loss: 0.009 - 0s 345us/step - loss: 0.0093\n",
      "Epoch 158/200\n",
      "58/58 [==============================] - 0s 430us/step - loss: 0.0123\n",
      "Epoch 159/200\n",
      "58/58 [==============================] - 0s 372us/step - loss: 0.0064\n",
      "Epoch 160/200\n",
      "58/58 [==============================] - 0s 294us/step - loss: 0.0070\n",
      "Epoch 161/200\n",
      "58/58 [==============================] - 0s 216us/step - loss: 0.0111\n",
      "Epoch 162/200\n",
      "58/58 [==============================] - 0s 277us/step - loss: 0.0080\n",
      "Epoch 163/200\n",
      "58/58 [==============================] - 0s 380us/step - loss: 0.0077\n",
      "Epoch 164/200\n",
      "58/58 [==============================] - 0s 345us/step - loss: 0.0090\n",
      "Epoch 165/200\n",
      "58/58 [==============================] - 0s 276us/step - loss: 0.0046\n",
      "Epoch 166/200\n",
      "58/58 [==============================] - 0s 207us/step - loss: 0.0074\n",
      "Epoch 167/200\n",
      "58/58 [==============================] - 0s 276us/step - loss: 0.0069\n",
      "Epoch 168/200\n",
      "58/58 [==============================] - 0s 276us/step - loss: 0.0068\n",
      "Epoch 169/200\n",
      "58/58 [==============================] - 0s 276us/step - loss: 0.0076\n",
      "Epoch 170/200\n",
      "58/58 [==============================] - 0s 276us/step - loss: 0.0066\n",
      "Epoch 171/200\n",
      "58/58 [==============================] - 0s 276us/step - loss: 0.0066\n",
      "Epoch 172/200\n",
      "58/58 [==============================] - 0s 276us/step - loss: 0.0078\n",
      "Epoch 173/200\n",
      "58/58 [==============================] - 0s 276us/step - loss: 0.0067\n",
      "Epoch 174/200\n",
      "58/58 [==============================] - 0s 345us/step - loss: 0.0095\n",
      "Epoch 175/200\n",
      "58/58 [==============================] - 0s 414us/step - loss: 0.0069\n",
      "Epoch 176/200\n",
      "58/58 [==============================] - 0s 345us/step - loss: 0.0079\n",
      "Epoch 177/200\n",
      "58/58 [==============================] - 0s 345us/step - loss: 0.0059\n",
      "Epoch 178/200\n",
      "58/58 [==============================] - 0s 276us/step - loss: 0.0071\n",
      "Epoch 179/200\n",
      "58/58 [==============================] - 0s 345us/step - loss: 0.0055\n",
      "Epoch 180/200\n",
      "58/58 [==============================] - 0s 391us/step - loss: 0.0072\n",
      "Epoch 181/200\n",
      "58/58 [==============================] - 0s 311us/step - loss: 0.0060\n",
      "Epoch 182/200\n",
      "58/58 [==============================] - 0s 310us/step - loss: 0.0075\n",
      "Epoch 183/200\n",
      "58/58 [==============================] - 0s 345us/step - loss: 0.0053\n",
      "Epoch 184/200\n",
      "58/58 [==============================] - 0s 379us/step - loss: 0.0056\n",
      "Epoch 185/200\n",
      "58/58 [==============================] - 0s 233us/step - loss: 0.0084\n",
      "Epoch 186/200\n",
      "58/58 [==============================] - 0s 276us/step - loss: 0.0070\n",
      "Epoch 187/200\n",
      "58/58 [==============================] - 0s 284us/step - loss: 0.0052\n",
      "Epoch 188/200\n",
      "58/58 [==============================] - 0s 311us/step - loss: 0.0073\n",
      "Epoch 189/200\n",
      "58/58 [==============================] - 0s 277us/step - loss: 0.0053\n",
      "Epoch 190/200\n",
      "58/58 [==============================] - 0s 294us/step - loss: 0.0063\n",
      "Epoch 191/200\n",
      "58/58 [==============================] - 0s 380us/step - loss: 0.0051\n",
      "Epoch 192/200\n",
      "58/58 [==============================] - 0s 346us/step - loss: 0.0058\n",
      "Epoch 193/200\n"
     ]
    },
    {
     "name": "stdout",
     "output_type": "stream",
     "text": [
      "58/58 [==============================] - 0s 395us/step - loss: 0.0086\n",
      "Epoch 194/200\n",
      "58/58 [==============================] - 0s 294us/step - loss: 0.0070\n",
      "Epoch 195/200\n",
      "58/58 [==============================] - 0s 269us/step - loss: 0.0066\n",
      "Epoch 196/200\n",
      "58/58 [==============================] - 0s 276us/step - loss: 0.0067\n",
      "Epoch 197/200\n",
      "58/58 [==============================] - 0s 276us/step - loss: 0.0083\n",
      "Epoch 198/200\n",
      "58/58 [==============================] - 0s 276us/step - loss: 0.0083\n",
      "Epoch 199/200\n",
      "58/58 [==============================] - 0s 307us/step - loss: 0.0088\n",
      "Epoch 200/200\n",
      "58/58 [==============================] - 0s 259us/step - loss: 0.0089\n"
     ]
    },
    {
     "data": {
      "text/plain": [
       "<keras.callbacks.History at 0x289e96d9240>"
      ]
     },
     "execution_count": 23,
     "metadata": {},
     "output_type": "execute_result"
    }
   ],
   "source": [
    "model.fit(trainX, trainY, epochs = 200, batch_size=32)"
   ]
  },
  {
   "cell_type": "markdown",
   "metadata": {},
   "source": [
    "### Prediction"
   ]
  },
  {
   "cell_type": "code",
   "execution_count": 24,
   "metadata": {},
   "outputs": [],
   "source": [
    "trainPrediction = model.predict(trainX)\n",
    "testPrediction = model.predict(testX)"
   ]
  },
  {
   "cell_type": "code",
   "execution_count": 25,
   "metadata": {},
   "outputs": [],
   "source": [
    "trainPrediction = scaler.inverse_transform(trainPrediction)\n",
    "trainY = scaler.inverse_transform([trainY])\n",
    "testPrediction = scaler.inverse_transform(testPrediction)\n",
    "testY = scaler.inverse_transform([testY])"
   ]
  },
  {
   "cell_type": "code",
   "execution_count": 26,
   "metadata": {},
   "outputs": [
    {
     "name": "stdout",
     "output_type": "stream",
     "text": [
      "Train Score is 21.14 RMSE\n",
      "Test Score is 51.33 RMSE\n"
     ]
    }
   ],
   "source": [
    "# Convert tensor to numpy. Otherwise we could not sqrt values.\n",
    "import tensorflow as tf\n",
    "sess = tf.Session()\n",
    "with sess.as_default():\n",
    "    trainScore = math.sqrt(mean_squared_error(trainY[0], trainPrediction[:,0]).eval())\n",
    "    testScore = math.sqrt(mean_squared_error(testY[0], testPrediction[:,0]).eval())\n",
    "print(\"Train Score is %.2lf RMSE\"%(trainScore))\n",
    "print(\"Test Score is %.2lf RMSE\"%(testScore))"
   ]
  },
  {
   "cell_type": "markdown",
   "metadata": {},
   "source": [
    "### Results"
   ]
  },
  {
   "cell_type": "code",
   "execution_count": 27,
   "metadata": {},
   "outputs": [
    {
     "data": {
      "image/png": "[encoded data removed]",
      "text/plain": [
       "<matplotlib.figure.Figure at 0x2898c713748>"
      ]
     },
     "metadata": {
      "needs_background": "light"
     },
     "output_type": "display_data"
    }
   ],
   "source": [
    "trainPredictPlot = np.empty_like(dataset)\n",
    "trainPredictPlot[:, :] = np.nan\n",
    "trainPredictPlot[time_steps:len(trainPrediction)+time_steps, :] = trainPrediction\n",
    "\n",
    "testPredictPlot = np.empty_like(dataset)\n",
    "testPredictPlot[:, :] = np.nan\n",
    "testPredictPlot[len(trainPrediction)+(time_steps*2)+1:len(dataset)-1, :] = testPrediction\n",
    "\n",
    "plt.plot(scaler.inverse_transform(data_scaled),label = 'True Values', color='blue')\n",
    "plt.plot(trainPredictPlot,label='Train Prediction', color='red')\n",
    "plt.plot(testPredictPlot,label = 'Test Prediction', color='green')\n",
    "plt.xlabel(\"Time\")\n",
    "plt.ylabel(\"Number of Passengers\")\n",
    "plt.title(\"International Airline Passengers\")\n",
    "plt.legend()\n",
    "plt.show()"
   ]
  }
 ],
 "metadata": {
  "kernelspec": {
   "display_name": "Python 3",
   "language": "python",
   "name": "python3"
  },
  "language_info": {
   "codemirror_mode": {
    "name": "ipython",
    "version": 3
   },
   "file_extension": ".py",
   "mimetype": "text/x-python",
   "name": "python",
   "nbconvert_exporter": "python",
   "pygments_lexer": "ipython3",
   "version": "3.6.3"
  }
 },
 "nbformat": 4,
 "nbformat_minor": 2
}
