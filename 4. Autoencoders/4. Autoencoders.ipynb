{
 "cells": [
  {
   "cell_type": "markdown",
   "metadata": {},
   "source": [
    "# Autoencoders\n",
    "\n",
    "The aim of an autoencoder is to learn a representation (encoding) for a set of data, typically for dimensionality reduction, by training the network to ignore signal “noise”. Along with the reduction side, a reconstructing side is learnt, where the autoencoder tries to generate from the reduced encoding a representation as close as possible to its original input, hence its name."
   ]
  },
  {
   "cell_type": "markdown",
   "metadata": {},
   "source": [
    "# 1)-Import key modules"
   ]
  },
  {
   "cell_type": "code",
   "execution_count": 1,
   "metadata": {},
   "outputs": [
    {
     "name": "stderr",
     "output_type": "stream",
     "text": [
      "Using TensorFlow backend.\n"
     ]
    }
   ],
   "source": [
    "from keras.layers import Input, Dense, Flatten, Reshape\n",
    "from keras.models import Model, Sequential\n",
    "\n",
    "from keras.datasets import mnist\n",
    "from keras.callbacks import Callback\n",
    "import numpy as np\n",
    "import wandb\n",
    "from wandb.keras import WandbCallback\n",
    "import matplotlib.pyplot as plt"
   ]
  },
  {
   "cell_type": "code",
   "execution_count": 2,
   "metadata": {},
   "outputs": [
    {
     "name": "stderr",
     "output_type": "stream",
     "text": [
      "wandb: ERROR To use wandb on Windows, you need to run the command \"wandb run python <your_train_script>.py\"\n"
     ]
    }
   ],
   "source": [
    "run = wandb.init()\n",
    "config = run.config"
   ]
  },
  {
   "cell_type": "code",
   "execution_count": 3,
   "metadata": {},
   "outputs": [],
   "source": [
    "config.encoding_dim = 32\n",
    "config.epochs = 10"
   ]
  },
  {
   "cell_type": "markdown",
   "metadata": {},
   "source": [
    "# 2) Loading data"
   ]
  },
  {
   "cell_type": "code",
   "execution_count": 4,
   "metadata": {},
   "outputs": [],
   "source": [
    "(x_train, _), (x_test, _) = mnist.load_data()"
   ]
  },
  {
   "cell_type": "code",
   "execution_count": 5,
   "metadata": {},
   "outputs": [
    {
     "name": "stdout",
     "output_type": "stream",
     "text": [
      "(60000, 28, 28)\n",
      "(10000, 28, 28)\n"
     ]
    }
   ],
   "source": [
    "# no y label as we are using X to represent x as outpur\n",
    "print(x_train.shape)\n",
    "print(x_test.shape)"
   ]
  },
  {
   "cell_type": "code",
   "execution_count": 6,
   "metadata": {},
   "outputs": [
    {
     "data": {
      "image/png": "[encoded data removed]",
      "text/plain": [
       "<matplotlib.figure.Figure at 0x1754ebd2208>"
      ]
     },
     "metadata": {
      "needs_background": "light"
     },
     "output_type": "display_data"
    }
   ],
   "source": [
    "# lets see what the images look like\n",
    "\n",
    "image = x_train[50, :].reshape((28, 28)) # checking a random row i.e 50 for image\n",
    "\n",
    "plt.imshow(image)\n",
    "plt.show()"
   ]
  },
  {
   "cell_type": "markdown",
   "metadata": {},
   "source": [
    "### Normalize data"
   ]
  },
  {
   "cell_type": "code",
   "execution_count": 7,
   "metadata": {},
   "outputs": [],
   "source": [
    "x_train = x_train.astype('float32') / 255.\n",
    "x_test = x_test.astype('float32') / 255."
   ]
  },
  {
   "cell_type": "markdown",
   "metadata": {},
   "source": [
    "# 3) Model"
   ]
  },
  {
   "cell_type": "markdown",
   "metadata": {},
   "source": [
    "### a.Building model"
   ]
  },
  {
   "cell_type": "code",
   "execution_count": 8,
   "metadata": {},
   "outputs": [
    {
     "name": "stdout",
     "output_type": "stream",
     "text": [
      "WARNING:tensorflow:From C:\\Program Files\\Anaconda3\\lib\\site-packages\\tensorflow\\python\\framework\\op_def_library.py:263: colocate_with (from tensorflow.python.framework.ops) is deprecated and will be removed in a future version.\n",
      "Instructions for updating:\n",
      "Colocations handled automatically by placer.\n"
     ]
    }
   ],
   "source": [
    "model = Sequential()\n",
    "model.add(Flatten(input_shape=(28,28)))\n",
    "model.add(Dense(config.encoding_dim, activation='relu'))\n",
    "model.add(Dense(28*28, activation='sigmoid'))\n",
    "model.add(Reshape((28,28)))\n",
    "model.compile(optimizer='adam', loss='mse') # as we working on performance so mse is better than accuracy"
   ]
  },
  {
   "cell_type": "code",
   "execution_count": 9,
   "metadata": {},
   "outputs": [
    {
     "name": "stdout",
     "output_type": "stream",
     "text": [
      "_________________________________________________________________\n",
      "Layer (type)                 Output Shape              Param #   \n",
      "=================================================================\n",
      "flatten_1 (Flatten)          (None, 784)               0         \n",
      "_________________________________________________________________\n",
      "dense_1 (Dense)              (None, 32)                25120     \n",
      "_________________________________________________________________\n",
      "dense_2 (Dense)              (None, 784)               25872     \n",
      "_________________________________________________________________\n",
      "reshape_1 (Reshape)          (None, 28, 28)            0         \n",
      "=================================================================\n",
      "Total params: 50,992\n",
      "Trainable params: 50,992\n",
      "Non-trainable params: 0\n",
      "_________________________________________________________________\n"
     ]
    }
   ],
   "source": [
    "model.summary()"
   ]
  },
  {
   "cell_type": "markdown",
   "metadata": {},
   "source": [
    "### b. For visualization"
   ]
  },
  {
   "cell_type": "code",
   "execution_count": 10,
   "metadata": {},
   "outputs": [],
   "source": [
    "class Images(Callback):\n",
    "      def on_epoch_end(self, epoch, logs):\n",
    "            indices = np.random.randint(self.validation_data[0].shape[0], size=8)\n",
    "            test_data = self.validation_data[0][indices]\n",
    "            pred_data = self.model.predict(test_data)\n",
    "            run.history.row.update({\n",
    "                  \"examples\": [\n",
    "                        wandb.Image(np.hstack([data, pred_data[i]]), caption=str(i))\n",
    "                        for i, data in enumerate(test_data)]\n",
    "            })"
   ]
  },
  {
   "cell_type": "markdown",
   "metadata": {},
   "source": [
    "### c.Fitting model"
   ]
  },
  {
   "cell_type": "code",
   "execution_count": 11,
   "metadata": {},
   "outputs": [
    {
     "name": "stdout",
     "output_type": "stream",
     "text": [
      "WARNING:tensorflow:From C:\\Program Files\\Anaconda3\\lib\\site-packages\\tensorflow\\python\\ops\\math_ops.py:3066: to_int32 (from tensorflow.python.ops.math_ops) is deprecated and will be removed in a future version.\n",
      "Instructions for updating:\n",
      "Use tf.cast instead.\n",
      "Train on 60000 samples, validate on 10000 samples\n",
      "Epoch 1/10\n",
      "60000/60000 [==============================] - 2s 31us/step - loss: 0.0321 - val_loss: 0.0161\n",
      "Epoch 2/10\n",
      "60000/60000 [==============================] - 2s 30us/step - loss: 0.0134 - val_loss: 0.0113\n",
      "Epoch 3/10\n",
      "60000/60000 [==============================] - 2s 29us/step - loss: 0.0112 - val_loss: 0.0104\n",
      "Epoch 4/10\n",
      "60000/60000 [==============================] - 2s 30us/step - loss: 0.0107 - val_loss: 0.0102\n",
      "Epoch 5/10\n",
      "60000/60000 [==============================] - 2s 29us/step - loss: 0.0105 - val_loss: 0.0101\n",
      "Epoch 6/10\n",
      "60000/60000 [==============================] - 2s 29us/step - loss: 0.0104 - val_loss: 0.0101\n",
      "Epoch 7/10\n",
      "60000/60000 [==============================] - 2s 30us/step - loss: 0.0103 - val_loss: 0.0100\n",
      "Epoch 8/10\n",
      "60000/60000 [==============================] - 2s 29us/step - loss: 0.0103 - val_loss: 0.0099\n",
      "Epoch 9/10\n",
      "60000/60000 [==============================] - 2s 29us/step - loss: 0.0102 - val_loss: 0.0099\n",
      "Epoch 10/10\n",
      "60000/60000 [==============================] - 2s 29us/step - loss: 0.0102 - val_loss: 0.0099\n"
     ]
    }
   ],
   "source": [
    "history=model.fit(x_train, x_train,\n",
    "                epochs=config.epochs,\n",
    "                validation_data=(x_test, x_test))"
   ]
  },
  {
   "cell_type": "code",
   "execution_count": 12,
   "metadata": {},
   "outputs": [],
   "source": [
    "model.save('auto.h5')"
   ]
  },
  {
   "cell_type": "markdown",
   "metadata": {},
   "source": [
    "# 4)- Debugging"
   ]
  },
  {
   "cell_type": "code",
   "execution_count": 13,
   "metadata": {},
   "outputs": [],
   "source": [
    "def add_noise(x_train, x_test):\n",
    "    # Function to add some random noise\n",
    "    noise_factor = 1.0\n",
    "    x_train_noisy = x_train + np.random.normal(loc=0.0, scale=noise_factor, size=x_train.shape) \n",
    "    x_test_noisy = x_test + np.random.normal(loc=0.0, scale=noise_factor, size=x_test.shape) \n",
    "    \n",
    "    x_train_noisy = np.clip(x_train_noisy, 0., 1.)\n",
    "    x_test_noisy = np.clip(x_test_noisy, 0., 1.)\n",
    "    return x_train_noisy, x_test_noisy"
   ]
  },
  {
   "cell_type": "code",
   "execution_count": 14,
   "metadata": {},
   "outputs": [],
   "source": [
    "def log_images(epoch, logs):\n",
    "    # Function to show the before and after images at each step\n",
    "    indices = np.random.randint(x_test_noisy.shape[0], size=8)\n",
    "    test_data = x_test_noisy[indices]\n",
    "    pred_data = np.clip(model.predict(test_data), 0, 1)\n",
    "    wandb.log({\n",
    "            \"examples\": [\n",
    "                wandb.Image(np.hstack([data, pred_data[i]]), caption=str(i))\n",
    "                for i, data in enumerate(test_data)]\n",
    "        }, commit=False)"
   ]
  },
  {
   "cell_type": "code",
   "execution_count": 15,
   "metadata": {},
   "outputs": [],
   "source": [
    "(x_train, _), (x_test, _) = mnist.load_data()\n",
    "(x_train_noisy, x_test_noisy) = add_noise(x_train, x_test)\n",
    "img_width = x_train.shape[1]\n",
    "img_height = x_train.shape[2]"
   ]
  },
  {
   "cell_type": "code",
   "execution_count": 16,
   "metadata": {},
   "outputs": [],
   "source": [
    "x_train = x_train / 255.\n",
    "x_test = x_test / 255."
   ]
  },
  {
   "cell_type": "code",
   "execution_count": 17,
   "metadata": {},
   "outputs": [],
   "source": [
    "# create model\n",
    "model = Sequential()\n",
    "model.add(Flatten(input_shape=(img_width, img_height)))\n",
    "model.add(Dense(config.encoding_dim, activation=\"relu\"))\n",
    "model.add(Dense(img_width*img_height, activation=\"sigmoid\"))\n",
    "model.add(Reshape((img_width, img_height)))\n",
    "model.compile(loss='mse', optimizer='adam',\n",
    "              metrics=['mse'])"
   ]
  },
  {
   "cell_type": "code",
   "execution_count": 18,
   "metadata": {},
   "outputs": [
    {
     "name": "stdout",
     "output_type": "stream",
     "text": [
      "_________________________________________________________________\n",
      "Layer (type)                 Output Shape              Param #   \n",
      "=================================================================\n",
      "flatten_2 (Flatten)          (None, 784)               0         \n",
      "_________________________________________________________________\n",
      "dense_3 (Dense)              (None, 32)                25120     \n",
      "_________________________________________________________________\n",
      "dense_4 (Dense)              (None, 784)               25872     \n",
      "_________________________________________________________________\n",
      "reshape_2 (Reshape)          (None, 28, 28)            0         \n",
      "=================================================================\n",
      "Total params: 50,992\n",
      "Trainable params: 50,992\n",
      "Non-trainable params: 0\n",
      "_________________________________________________________________\n"
     ]
    }
   ],
   "source": [
    "model.summary()"
   ]
  },
  {
   "cell_type": "code",
   "execution_count": 19,
   "metadata": {},
   "outputs": [
    {
     "name": "stdout",
     "output_type": "stream",
     "text": [
      "Train on 60000 samples, validate on 10000 samples\n",
      "Epoch 1/30\n",
      "60000/60000 [==============================] - 2s 35us/step - loss: 0.0402 - mean_squared_error: 0.0402 - val_loss: 0.0258 - val_mean_squared_error: 0.0258\n",
      "Epoch 2/30\n",
      "60000/60000 [==============================] - 2s 33us/step - loss: 0.0239 - mean_squared_error: 0.0239 - val_loss: 0.0220 - val_mean_squared_error: 0.0220\n",
      "Epoch 3/30\n",
      "60000/60000 [==============================] - 2s 32us/step - loss: 0.0221 - mean_squared_error: 0.0221 - val_loss: 0.0213 - val_mean_squared_error: 0.0213\n",
      "Epoch 4/30\n",
      "60000/60000 [==============================] - 2s 33us/step - loss: 0.0217 - mean_squared_error: 0.0217 - val_loss: 0.0213 - val_mean_squared_error: 0.0213\n",
      "Epoch 5/30\n",
      "60000/60000 [==============================] - 2s 32us/step - loss: 0.0215 - mean_squared_error: 0.0215 - val_loss: 0.0210 - val_mean_squared_error: 0.0210\n",
      "Epoch 6/30\n",
      "60000/60000 [==============================] - 2s 33us/step - loss: 0.0214 - mean_squared_error: 0.0214 - val_loss: 0.0209 - val_mean_squared_error: 0.0209\n",
      "Epoch 7/30\n",
      "60000/60000 [==============================] - 2s 33us/step - loss: 0.0213 - mean_squared_error: 0.0213 - val_loss: 0.0208 - val_mean_squared_error: 0.0208\n",
      "Epoch 8/30\n",
      "60000/60000 [==============================] - 2s 33us/step - loss: 0.0212 - mean_squared_error: 0.0212 - val_loss: 0.0207 - val_mean_squared_error: 0.0207\n",
      "Epoch 9/30\n",
      "60000/60000 [==============================] - 2s 33us/step - loss: 0.0210 - mean_squared_error: 0.0210 - val_loss: 0.0206 - val_mean_squared_error: 0.0206\n",
      "Epoch 10/30\n",
      "60000/60000 [==============================] - 2s 33us/step - loss: 0.0209 - mean_squared_error: 0.0209 - val_loss: 0.0204 - val_mean_squared_error: 0.0204\n",
      "Epoch 11/30\n",
      "60000/60000 [==============================] - 2s 33us/step - loss: 0.0208 - mean_squared_error: 0.0208 - val_loss: 0.0204 - val_mean_squared_error: 0.0204\n",
      "Epoch 12/30\n",
      "60000/60000 [==============================] - 2s 34us/step - loss: 0.0207 - mean_squared_error: 0.0207 - val_loss: 0.0204 - val_mean_squared_error: 0.0204\n",
      "Epoch 13/30\n",
      "60000/60000 [==============================] - 2s 33us/step - loss: 0.0206 - mean_squared_error: 0.0206 - val_loss: 0.0204 - val_mean_squared_error: 0.0204\n",
      "Epoch 14/30\n",
      "60000/60000 [==============================] - 2s 33us/step - loss: 0.0205 - mean_squared_error: 0.0205 - val_loss: 0.0202 - val_mean_squared_error: 0.0202\n",
      "Epoch 15/30\n",
      "60000/60000 [==============================] - 2s 33us/step - loss: 0.0204 - mean_squared_error: 0.0204 - val_loss: 0.0200 - val_mean_squared_error: 0.0200\n",
      "Epoch 16/30\n",
      "60000/60000 [==============================] - 2s 33us/step - loss: 0.0203 - mean_squared_error: 0.0203 - val_loss: 0.0199 - val_mean_squared_error: 0.0199\n",
      "Epoch 17/30\n",
      "60000/60000 [==============================] - 2s 33us/step - loss: 0.0202 - mean_squared_error: 0.0202 - val_loss: 0.0199 - val_mean_squared_error: 0.0199\n",
      "Epoch 18/30\n",
      "60000/60000 [==============================] - 2s 33us/step - loss: 0.0202 - mean_squared_error: 0.0202 - val_loss: 0.0198 - val_mean_squared_error: 0.0198\n",
      "Epoch 19/30\n",
      "60000/60000 [==============================] - 2s 33us/step - loss: 0.0201 - mean_squared_error: 0.0201 - val_loss: 0.0197 - val_mean_squared_error: 0.0197\n",
      "Epoch 20/30\n",
      "60000/60000 [==============================] - 2s 33us/step - loss: 0.0201 - mean_squared_error: 0.0201 - val_loss: 0.0197 - val_mean_squared_error: 0.0197\n",
      "Epoch 21/30\n",
      "60000/60000 [==============================] - 2s 33us/step - loss: 0.0201 - mean_squared_error: 0.0201 - val_loss: 0.0197 - val_mean_squared_error: 0.0197\n",
      "Epoch 22/30\n",
      "60000/60000 [==============================] - 2s 33us/step - loss: 0.0200 - mean_squared_error: 0.0200 - val_loss: 0.0196 - val_mean_squared_error: 0.0196\n",
      "Epoch 23/30\n",
      "60000/60000 [==============================] - 2s 33us/step - loss: 0.0200 - mean_squared_error: 0.0200 - val_loss: 0.0198 - val_mean_squared_error: 0.0198\n",
      "Epoch 24/30\n",
      "60000/60000 [==============================] - 2s 33us/step - loss: 0.0200 - mean_squared_error: 0.0200 - val_loss: 0.0200 - val_mean_squared_error: 0.0200\n",
      "Epoch 25/30\n",
      "60000/60000 [==============================] - 2s 33us/step - loss: 0.0200 - mean_squared_error: 0.0200 - val_loss: 0.0196 - val_mean_squared_error: 0.0196\n",
      "Epoch 26/30\n",
      "60000/60000 [==============================] - 2s 33us/step - loss: 0.0199 - mean_squared_error: 0.0199 - val_loss: 0.0196 - val_mean_squared_error: 0.0196\n",
      "Epoch 27/30\n",
      "60000/60000 [==============================] - 2s 33us/step - loss: 0.0199 - mean_squared_error: 0.0199 - val_loss: 0.0196 - val_mean_squared_error: 0.0196\n",
      "Epoch 28/30\n",
      "60000/60000 [==============================] - 2s 33us/step - loss: 0.0199 - mean_squared_error: 0.0199 - val_loss: 0.0195 - val_mean_squared_error: 0.0195\n",
      "Epoch 29/30\n",
      "60000/60000 [==============================] - 2s 33us/step - loss: 0.0199 - mean_squared_error: 0.0199 - val_loss: 0.0197 - val_mean_squared_error: 0.0197\n",
      "Epoch 30/30\n",
      "60000/60000 [==============================] - 2s 33us/step - loss: 0.0199 - mean_squared_error: 0.0199 - val_loss: 0.0195 - val_mean_squared_error: 0.0195\n"
     ]
    }
   ],
   "source": [
    "history=model.fit(x_train_noisy, x_train, epochs=30, validation_data=(x_test_noisy, x_test))"
   ]
  },
  {
   "cell_type": "markdown",
   "metadata": {},
   "source": [
    "Both lower value of loss from real image to encoded output show that encoded image is clear, less noisey"
   ]
  },
  {
   "cell_type": "code",
   "execution_count": null,
   "metadata": {},
   "outputs": [],
   "source": []
  }
 ],
 "metadata": {
  "kernelspec": {
   "display_name": "Python 3",
   "language": "python",
   "name": "python3"
  },
  "language_info": {
   "codemirror_mode": {
    "name": "ipython",
    "version": 3
   },
   "file_extension": ".py",
   "mimetype": "text/x-python",
   "name": "python",
   "nbconvert_exporter": "python",
   "pygments_lexer": "ipython3",
   "version": "3.6.3"
  }
 },
 "nbformat": 4,
 "nbformat_minor": 2
}
