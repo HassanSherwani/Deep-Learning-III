{
 "cells": [
  {
   "cell_type": "markdown",
   "metadata": {},
   "source": [
    "# Convolutional Neural Network"
   ]
  },
  {
   "cell_type": "markdown",
   "metadata": {},
   "source": [
    "# 1)-Import key modules"
   ]
  },
  {
   "cell_type": "code",
   "execution_count": 1,
   "metadata": {},
   "outputs": [],
   "source": [
    "import numpy as np\n",
    "import pandas as pd\n",
    "import matplotlib.pyplot as plt\n",
    "from sklearn.model_selection import train_test_split"
   ]
  },
  {
   "cell_type": "code",
   "execution_count": 2,
   "metadata": {},
   "outputs": [
    {
     "name": "stderr",
     "output_type": "stream",
     "text": [
      "Using TensorFlow backend.\n"
     ]
    }
   ],
   "source": [
    "import keras\n",
    "from keras.models import Sequential\n",
    "from keras.layers import Conv2D, MaxPooling2D, Dense, Flatten, Dropout\n",
    "from keras.optimizers import Adam\n",
    "from keras.callbacks import TensorBoard\n",
    "from keras.datasets import mnist\n",
    "from keras.models import Sequential\n",
    "from keras.layers import Conv2D, MaxPooling2D, Dropout, Dense, Flatten\n",
    "from keras.utils import np_utils\n",
    "from wandb.keras import WandbCallback\n",
    "from keras.callbacks import TensorBoard\n",
    "import wandb\n",
    "import os\n",
    "import tensorflow as tf"
   ]
  },
  {
   "cell_type": "code",
   "execution_count": 3,
   "metadata": {},
   "outputs": [
    {
     "name": "stderr",
     "output_type": "stream",
     "text": [
      "wandb: ERROR To use wandb on Windows, you need to run the command \"wandb run python <your_train_script>.py\"\n"
     ]
    }
   ],
   "source": [
    "run = wandb.init()\n",
    "config = run.config\n",
    "config.first_layer_convs = 32\n",
    "config.first_layer_conv_width = 3\n",
    "config.first_layer_conv_height = 3\n",
    "config.dropout = 0.2\n",
    "config.dense_layer_size = 128\n",
    "config.img_width = 28\n",
    "config.img_height = 28\n",
    "config.epochs = 4\n",
    "batch_size = 256"
   ]
  },
  {
   "cell_type": "markdown",
   "metadata": {},
   "source": [
    "# 2)-Loading data"
   ]
  },
  {
   "cell_type": "code",
   "execution_count": 4,
   "metadata": {},
   "outputs": [],
   "source": [
    "(X_train, y_train), (X_test, y_test) = mnist.load_data()"
   ]
  },
  {
   "cell_type": "markdown",
   "metadata": {},
   "source": [
    "# 3) Checking data"
   ]
  },
  {
   "cell_type": "code",
   "execution_count": 5,
   "metadata": {},
   "outputs": [
    {
     "data": {
      "image/png": "[encoded data removed]",
      "text/plain": [
       "<matplotlib.figure.Figure at 0x15ed1338710>"
      ]
     },
     "metadata": {
      "needs_background": "light"
     },
     "output_type": "display_data"
    }
   ],
   "source": [
    "image = X_train[50, :].reshape((28, 28)) # checking a random row i.e 50 for image\n",
    "\n",
    "plt.imshow(image)\n",
    "plt.show()"
   ]
  },
  {
   "cell_type": "code",
   "execution_count": 6,
   "metadata": {},
   "outputs": [
    {
     "data": {
      "image/png": "[encoded data removed]",
      "text/plain": [
       "<matplotlib.figure.Figure at 0x15ed13381d0>"
      ]
     },
     "metadata": {
      "needs_background": "light"
     },
     "output_type": "display_data"
    }
   ],
   "source": [
    "image = X_train[3, :].reshape((28, 28)) \n",
    "\n",
    "plt.imshow(image)\n",
    "plt.show()"
   ]
  },
  {
   "cell_type": "code",
   "execution_count": 7,
   "metadata": {},
   "outputs": [
    {
     "name": "stdout",
     "output_type": "stream",
     "text": [
      "60000\n",
      "28\n",
      "28\n"
     ]
    }
   ],
   "source": [
    "print(X_train.shape[0])\n",
    "print(X_train.shape[1])\n",
    "print(X_train.shape[2])"
   ]
  },
  {
   "cell_type": "code",
   "execution_count": 8,
   "metadata": {},
   "outputs": [],
   "source": [
    "img_width = X_train.shape[1]\n",
    "img_height = X_train.shape[2]"
   ]
  },
  {
   "cell_type": "code",
   "execution_count": 9,
   "metadata": {},
   "outputs": [
    {
     "name": "stdout",
     "output_type": "stream",
     "text": [
      "28\n"
     ]
    }
   ],
   "source": [
    "print(img_width)"
   ]
  },
  {
   "cell_type": "markdown",
   "metadata": {},
   "source": [
    "### a.Normalize"
   ]
  },
  {
   "cell_type": "code",
   "execution_count": 10,
   "metadata": {},
   "outputs": [],
   "source": [
    "X_train = X_train.astype('float32')\n",
    "X_train /= 255.\n",
    "X_test = X_test.astype('float32')\n",
    "X_test /= 255."
   ]
  },
  {
   "cell_type": "markdown",
   "metadata": {},
   "source": [
    "### b.reshape"
   ]
  },
  {
   "cell_type": "code",
   "execution_count": 11,
   "metadata": {},
   "outputs": [],
   "source": [
    "# reshape input data\n",
    "X_train = X_train.reshape(\n",
    "    X_train.shape[0], config.img_width, config.img_height, 1)\n",
    "X_test = X_test.reshape(\n",
    "    X_test.shape[0], config.img_width, config.img_height, 1)"
   ]
  },
  {
   "cell_type": "markdown",
   "metadata": {},
   "source": [
    "### c.one hot encode"
   ]
  },
  {
   "cell_type": "code",
   "execution_count": 12,
   "metadata": {},
   "outputs": [],
   "source": [
    "# one hot encode outputs\n",
    "y_train = np_utils.to_categorical(y_train)\n",
    "y_test = np_utils.to_categorical(y_test)\n",
    "num_classes = y_test.shape[1]\n",
    "labels = range(10)"
   ]
  },
  {
   "cell_type": "markdown",
   "metadata": {},
   "source": [
    "# 4)- build model"
   ]
  },
  {
   "cell_type": "code",
   "execution_count": 13,
   "metadata": {},
   "outputs": [
    {
     "name": "stdout",
     "output_type": "stream",
     "text": [
      "WARNING:tensorflow:From C:\\Program Files\\Anaconda3\\lib\\site-packages\\tensorflow\\python\\framework\\op_def_library.py:263: colocate_with (from tensorflow.python.framework.ops) is deprecated and will be removed in a future version.\n",
      "Instructions for updating:\n",
      "Colocations handled automatically by placer.\n"
     ]
    }
   ],
   "source": [
    "model = Sequential()\n",
    "model.add(Conv2D(32,\n",
    "                 (config.first_layer_conv_width, config.first_layer_conv_height),\n",
    "                 input_shape=(28, 28, 1),\n",
    "                 activation='relu'))\n",
    "model.add(MaxPooling2D(pool_size=(2, 2)))\n",
    "model.add(Flatten())\n",
    "model.add(Dense(config.dense_layer_size, activation='relu'))\n",
    "model.add(Dense(num_classes, activation='softmax'))\n",
    "\n",
    "model.compile(loss='categorical_crossentropy', optimizer='adam',\n",
    "              metrics=['accuracy'], weighted_metrics=['accuracy'])"
   ]
  },
  {
   "cell_type": "code",
   "execution_count": 14,
   "metadata": {},
   "outputs": [
    {
     "name": "stdout",
     "output_type": "stream",
     "text": [
      "_________________________________________________________________\n",
      "Layer (type)                 Output Shape              Param #   \n",
      "=================================================================\n",
      "conv2d_1 (Conv2D)            (None, 26, 26, 32)        320       \n",
      "_________________________________________________________________\n",
      "max_pooling2d_1 (MaxPooling2 (None, 13, 13, 32)        0         \n",
      "_________________________________________________________________\n",
      "flatten_1 (Flatten)          (None, 5408)              0         \n",
      "_________________________________________________________________\n",
      "dense_1 (Dense)              (None, 128)               692352    \n",
      "_________________________________________________________________\n",
      "dense_2 (Dense)              (None, 10)                1290      \n",
      "=================================================================\n",
      "Total params: 693,962\n",
      "Trainable params: 693,962\n",
      "Non-trainable params: 0\n",
      "_________________________________________________________________\n"
     ]
    }
   ],
   "source": [
    "model.summary()"
   ]
  },
  {
   "cell_type": "code",
   "execution_count": 15,
   "metadata": {},
   "outputs": [
    {
     "name": "stdout",
     "output_type": "stream",
     "text": [
      "WARNING:tensorflow:From C:\\Program Files\\Anaconda3\\lib\\site-packages\\tensorflow\\python\\ops\\math_ops.py:3066: to_int32 (from tensorflow.python.ops.math_ops) is deprecated and will be removed in a future version.\n",
      "Instructions for updating:\n",
      "Use tf.cast instead.\n",
      "Train on 60000 samples, validate on 10000 samples\n",
      "Epoch 1/10\n",
      "60000/60000 [==============================] - 18s 295us/step - loss: 0.2868 - acc: 0.9203 - weighted_acc: 0.9203 - val_loss: 0.1112 - val_acc: 0.9679 - val_weighted_acc: 0.9679\n",
      "Epoch 2/10\n",
      "60000/60000 [==============================] - 17s 287us/step - loss: 0.0828 - acc: 0.9757 - weighted_acc: 0.9757 - val_loss: 0.0637 - val_acc: 0.9795 - val_weighted_acc: 0.9795\n",
      "Epoch 3/10\n",
      "60000/60000 [==============================] - 17s 285us/step - loss: 0.0566 - acc: 0.9833 - weighted_acc: 0.9833 - val_loss: 0.0508 - val_acc: 0.9826 - val_weighted_acc: 0.9826\n",
      "Epoch 4/10\n",
      "60000/60000 [==============================] - 17s 286us/step - loss: 0.0435 - acc: 0.9872 - weighted_acc: 0.9872 - val_loss: 0.0501 - val_acc: 0.9830 - val_weighted_acc: 0.9830\n",
      "Epoch 5/10\n",
      "60000/60000 [==============================] - 17s 286us/step - loss: 0.0348 - acc: 0.9895 - weighted_acc: 0.9895 - val_loss: 0.0474 - val_acc: 0.9843 - val_weighted_acc: 0.9843\n",
      "Epoch 6/10\n",
      "60000/60000 [==============================] - 18s 294us/step - loss: 0.0280 - acc: 0.9917 - weighted_acc: 0.9917 - val_loss: 0.0524 - val_acc: 0.9830 - val_weighted_acc: 0.9830\n",
      "Epoch 7/10\n",
      "60000/60000 [==============================] - 19s 314us/step - loss: 0.0229 - acc: 0.9934 - weighted_acc: 0.9934 - val_loss: 0.0394 - val_acc: 0.9865 - val_weighted_acc: 0.9865\n",
      "Epoch 8/10\n",
      "60000/60000 [==============================] - 20s 334us/step - loss: 0.0189 - acc: 0.9947 - weighted_acc: 0.9947 - val_loss: 0.0391 - val_acc: 0.9867 - val_weighted_acc: 0.9867\n",
      "Epoch 9/10\n",
      "60000/60000 [==============================] - 19s 313us/step - loss: 0.0148 - acc: 0.9958 - weighted_acc: 0.9958 - val_loss: 0.0403 - val_acc: 0.9865 - val_weighted_acc: 0.9865\n",
      "Epoch 10/10\n",
      "60000/60000 [==============================] - 19s 315us/step - loss: 0.0119 - acc: 0.9967 - weighted_acc: 0.9967 - val_loss: 0.0448 - val_acc: 0.9856 - val_weighted_acc: 0.9856\n"
     ]
    }
   ],
   "source": [
    "# Fit the model\n",
    "history = model.fit(\n",
    "        X_train, y_train,\n",
    "        batch_size=batch_size,\n",
    "        epochs=10, verbose=1,\n",
    "        validation_data=(X_test, y_test)\n",
    "    )"
   ]
  },
  {
   "cell_type": "markdown",
   "metadata": {},
   "source": [
    "# 5)- Evaluating "
   ]
  },
  {
   "cell_type": "code",
   "execution_count": 16,
   "metadata": {},
   "outputs": [
    {
     "name": "stdout",
     "output_type": "stream",
     "text": [
      "Test loss: 0.04482745918013388\n",
      "Test accuracy: 0.9856\n"
     ]
    }
   ],
   "source": [
    "score = model.evaluate(X_test, y_test, verbose=0)\n",
    "print('Test loss:', score[0])\n",
    "print('Test accuracy:', score[1])"
   ]
  },
  {
   "cell_type": "code",
   "execution_count": 17,
   "metadata": {},
   "outputs": [],
   "source": [
    "def plot_history(history):\n",
    "    acc = history.history['acc']\n",
    "    val_acc = history.history['val_acc']\n",
    "    loss = history.history['loss']\n",
    "    val_loss = history.history['val_loss']\n",
    "    x = range(1, len(acc) + 1)\n",
    "\n",
    "    plt.figure(figsize=(12, 5))\n",
    "    plt.subplot(1, 2, 1)\n",
    "    plt.plot(x, acc, 'b', label='Training acc')\n",
    "    plt.plot(x, val_acc, 'r', label='Validation acc')\n",
    "    plt.title('Training and validation accuracy')\n",
    "    plt.legend()\n",
    "    plt.subplot(1, 2, 2)\n",
    "    plt.plot(x, loss, 'b', label='Training loss')\n",
    "    plt.plot(x, val_loss, 'r', label='Validation loss')\n",
    "    plt.title('Training and validation loss')\n",
    "    plt.legend()"
   ]
  },
  {
   "cell_type": "code",
   "execution_count": 18,
   "metadata": {},
   "outputs": [
    {
     "data": {
      "image/png": "[encoded data removed]",
      "text/plain": [
       "<matplotlib.figure.Figure at 0x15ed7980b38>"
      ]
     },
     "metadata": {
      "needs_background": "light"
     },
     "output_type": "display_data"
    }
   ],
   "source": [
    "plot_history(history)"
   ]
  },
  {
   "cell_type": "markdown",
   "metadata": {},
   "source": [
    "Note how training accuracy has reached almost 100%. this is a potential issue of overfitting.\n",
    "\n",
    "We may get better results by using **dropout**"
   ]
  },
  {
   "cell_type": "markdown",
   "metadata": {},
   "source": [
    "# 6)- Debugging"
   ]
  },
  {
   "cell_type": "markdown",
   "metadata": {},
   "source": [
    "### Adding Dropout"
   ]
  },
  {
   "cell_type": "code",
   "execution_count": 19,
   "metadata": {},
   "outputs": [
    {
     "name": "stdout",
     "output_type": "stream",
     "text": [
      "WARNING:tensorflow:From C:\\Users\\69785hsh\\AppData\\Roaming\\Python\\Python36\\site-packages\\keras\\backend\\tensorflow_backend.py:3445: calling dropout (from tensorflow.python.ops.nn_ops) with keep_prob is deprecated and will be removed in a future version.\n",
      "Instructions for updating:\n",
      "Please use `rate` instead of `keep_prob`. Rate should be set to `rate = 1 - keep_prob`.\n"
     ]
    }
   ],
   "source": [
    "model = Sequential()\n",
    "model.add(Conv2D(32,\n",
    "                 (config.first_layer_conv_width, config.first_layer_conv_height),\n",
    "                 input_shape=(28, 28, 1),\n",
    "                 activation='relu'))\n",
    "model.add(MaxPooling2D(pool_size=(2, 2)))\n",
    "model.add(Flatten())\n",
    "model.add(Dropout(0.4))\n",
    "model.add(Dense(config.dense_layer_size, activation='relu'))\n",
    "model.add(Dropout(0.4))\n",
    "model.add(Dense(num_classes, activation='softmax'))\n",
    "\n",
    "model.compile(loss='categorical_crossentropy', optimizer='adam',\n",
    "              metrics=['accuracy'], weighted_metrics=['accuracy'])"
   ]
  },
  {
   "cell_type": "code",
   "execution_count": 20,
   "metadata": {},
   "outputs": [
    {
     "name": "stdout",
     "output_type": "stream",
     "text": [
      "_________________________________________________________________\n",
      "Layer (type)                 Output Shape              Param #   \n",
      "=================================================================\n",
      "conv2d_2 (Conv2D)            (None, 26, 26, 32)        320       \n",
      "_________________________________________________________________\n",
      "max_pooling2d_2 (MaxPooling2 (None, 13, 13, 32)        0         \n",
      "_________________________________________________________________\n",
      "flatten_2 (Flatten)          (None, 5408)              0         \n",
      "_________________________________________________________________\n",
      "dropout_1 (Dropout)          (None, 5408)              0         \n",
      "_________________________________________________________________\n",
      "dense_3 (Dense)              (None, 128)               692352    \n",
      "_________________________________________________________________\n",
      "dropout_2 (Dropout)          (None, 128)               0         \n",
      "_________________________________________________________________\n",
      "dense_4 (Dense)              (None, 10)                1290      \n",
      "=================================================================\n",
      "Total params: 693,962\n",
      "Trainable params: 693,962\n",
      "Non-trainable params: 0\n",
      "_________________________________________________________________\n"
     ]
    }
   ],
   "source": [
    "model.summary()"
   ]
  },
  {
   "cell_type": "code",
   "execution_count": 21,
   "metadata": {},
   "outputs": [
    {
     "name": "stdout",
     "output_type": "stream",
     "text": [
      "Train on 60000 samples, validate on 10000 samples\n",
      "Epoch 1/10\n",
      "60000/60000 [==============================] - 23s 379us/step - loss: 0.3680 - acc: 0.8925 - weighted_acc: 0.8925 - val_loss: 0.1097 - val_acc: 0.9673 - val_weighted_acc: 0.9673\n",
      "Epoch 2/10\n",
      "60000/60000 [==============================] - 23s 376us/step - loss: 0.1316 - acc: 0.9614 - weighted_acc: 0.9614 - val_loss: 0.0683 - val_acc: 0.9779 - val_weighted_acc: 0.9779\n",
      "Epoch 3/10\n",
      "60000/60000 [==============================] - 23s 381us/step - loss: 0.0999 - acc: 0.9703 - weighted_acc: 0.9703 - val_loss: 0.0564 - val_acc: 0.9805 - val_weighted_acc: 0.9805\n",
      "Epoch 4/10\n",
      "60000/60000 [==============================] - 21s 347us/step - loss: 0.0846 - acc: 0.9739 - weighted_acc: 0.9739 - val_loss: 0.0487 - val_acc: 0.9836 - val_weighted_acc: 0.9836\n",
      "Epoch 5/10\n",
      "60000/60000 [==============================] - 21s 347us/step - loss: 0.0698 - acc: 0.9786 - weighted_acc: 0.9786 - val_loss: 0.0477 - val_acc: 0.9838 - val_weighted_acc: 0.9838\n",
      "Epoch 6/10\n",
      "60000/60000 [==============================] - 21s 348us/step - loss: 0.0652 - acc: 0.9797 - weighted_acc: 0.9797 - val_loss: 0.0436 - val_acc: 0.9852 - val_weighted_acc: 0.9852\n",
      "Epoch 7/10\n",
      "60000/60000 [==============================] - 23s 388us/step - loss: 0.0583 - acc: 0.9819 - weighted_acc: 0.9819 - val_loss: 0.0417 - val_acc: 0.9858 - val_weighted_acc: 0.9858\n",
      "Epoch 8/10\n",
      "60000/60000 [==============================] - 22s 368us/step - loss: 0.0519 - acc: 0.9843 - weighted_acc: 0.9843 - val_loss: 0.0402 - val_acc: 0.9856 - val_weighted_acc: 0.9856\n",
      "Epoch 9/10\n",
      "60000/60000 [==============================] - 22s 370us/step - loss: 0.0503 - acc: 0.9844 - weighted_acc: 0.9844 - val_loss: 0.0375 - val_acc: 0.9863 - val_weighted_acc: 0.9863\n",
      "Epoch 10/10\n",
      "60000/60000 [==============================] - 22s 370us/step - loss: 0.0457 - acc: 0.9853 - weighted_acc: 0.9853 - val_loss: 0.0400 - val_acc: 0.9858 - val_weighted_acc: 0.9858\n"
     ]
    }
   ],
   "source": [
    "# Fit the model\n",
    "history = model.fit(\n",
    "        X_train, y_train,\n",
    "        batch_size=batch_size,\n",
    "        epochs=10, verbose=1,\n",
    "        validation_data=(X_test, y_test)\n",
    "    )"
   ]
  },
  {
   "cell_type": "code",
   "execution_count": 22,
   "metadata": {},
   "outputs": [
    {
     "name": "stdout",
     "output_type": "stream",
     "text": [
      "Test loss: 0.04002520736116567\n",
      "Test accuracy: 0.9858\n"
     ]
    }
   ],
   "source": [
    "score = model.evaluate(X_test, y_test, verbose=0)\n",
    "print('Test loss:', score[0])\n",
    "print('Test accuracy:', score[1])"
   ]
  },
  {
   "cell_type": "code",
   "execution_count": 23,
   "metadata": {},
   "outputs": [],
   "source": [
    "def plot_history(history):\n",
    "    acc = history.history['acc']\n",
    "    val_acc = history.history['val_acc']\n",
    "    loss = history.history['loss']\n",
    "    val_loss = history.history['val_loss']\n",
    "    x = range(1, len(acc) + 1)\n",
    "\n",
    "    plt.figure(figsize=(12, 5))\n",
    "    plt.subplot(1, 2, 1)\n",
    "    plt.plot(x, acc, 'b', label='Training acc')\n",
    "    plt.plot(x, val_acc, 'r', label='Validation acc')\n",
    "    plt.title('Training and validation accuracy')\n",
    "    plt.legend()\n",
    "    plt.subplot(1, 2, 2)\n",
    "    plt.plot(x, loss, 'b', label='Training loss')\n",
    "    plt.plot(x, val_loss, 'r', label='Validation loss')\n",
    "    plt.title('Training and validation loss')\n",
    "    plt.legend()"
   ]
  },
  {
   "cell_type": "code",
   "execution_count": 24,
   "metadata": {},
   "outputs": [
    {
     "data": {
      "image/png": "[encoded data removed]",
      "text/plain": [
       "<matplotlib.figure.Figure at 0x15ed779f320>"
      ]
     },
     "metadata": {
      "needs_background": "light"
     },
     "output_type": "display_data"
    }
   ],
   "source": [
    "plot_history(history)"
   ]
  },
  {
   "cell_type": "markdown",
   "metadata": {},
   "source": [
    "# 7)-Applying three layered CNN"
   ]
  },
  {
   "cell_type": "code",
   "execution_count": 27,
   "metadata": {},
   "outputs": [],
   "source": [
    "#Trying again with same dataset\n",
    "(x_train, y_train), (x_test , y_test) = mnist.load_data()"
   ]
  },
  {
   "cell_type": "code",
   "execution_count": 28,
   "metadata": {},
   "outputs": [
    {
     "name": "stdout",
     "output_type": "stream",
     "text": [
      "x_train shape: (60000, 28, 28, 1)\n",
      "x_test shape: (10000, 28, 28, 1)\n",
      "x_validate shape: (10000, 28, 28, 1)\n"
     ]
    }
   ],
   "source": [
    "# reshape the data\n",
    "im_rows = 28\n",
    "im_cols = 28\n",
    "batch_size = 256\n",
    "im_shape = (im_rows, im_cols, 1)\n",
    "\n",
    "x_train = x_train.reshape(x_train.shape[0], *im_shape)\n",
    "x_test = x_test.reshape(x_test.shape[0], *im_shape)\n",
    "x_validate = x_validate.reshape(x_validate.shape[0], *im_shape)\n",
    "\n",
    "print('x_train shape: {}'.format(x_train.shape))\n",
    "print('x_test shape: {}'.format(x_test.shape))\n",
    "print('x_validate shape: {}'.format(x_validate.shape))"
   ]
  },
  {
   "cell_type": "markdown",
   "metadata": {},
   "source": [
    "### a. Building three layers of model"
   ]
  },
  {
   "cell_type": "code",
   "execution_count": 29,
   "metadata": {},
   "outputs": [],
   "source": [
    "# CNN model consisting of three layers\n",
    "\n",
    "name = '1_Layer'\n",
    "cnn_model_1 = Sequential([\n",
    "    Conv2D(32, kernel_size=3, activation='relu', input_shape=im_shape, name='Conv2D-1'),\n",
    "    MaxPooling2D(pool_size=2, name='MaxPool'),\n",
    "    Dropout(0.2, name='Dropout'),\n",
    "    Flatten(name='flatten'),\n",
    "    Dense(32, activation='relu', name='Dense'),\n",
    "    Dense(10, activation='softmax', name='Output')\n",
    "], name=name)\n",
    "\n",
    "name = '2_Layer'\n",
    "cnn_model_2 = Sequential([\n",
    "    Conv2D(32, kernel_size=3, activation='relu', input_shape=im_shape, name='Conv2D-1'),\n",
    "    MaxPooling2D(pool_size=2, name='MaxPool'),\n",
    "    Dropout(0.2, name='Dropout-1'),\n",
    "    Conv2D(64, kernel_size=3, activation='relu', name='Conv2D-2'),\n",
    "    Dropout(0.25, name='Dropout-2'),\n",
    "    Flatten(name='flatten'),\n",
    "    Dense(64, activation='relu', name='Dense'),\n",
    "    Dense(10, activation='softmax', name='Output')\n",
    "], name=name)\n",
    "\n",
    "name='3_layer'\n",
    "cnn_model_3 = Sequential([\n",
    "    Conv2D(32, kernel_size=3, activation='relu', \n",
    "           input_shape=im_shape, kernel_initializer='he_normal', name='Conv2D-1'),\n",
    "    MaxPooling2D(pool_size=2, name='MaxPool'),\n",
    "    Dropout(0.25, name='Dropout-1'),\n",
    "    Conv2D(64, kernel_size=3, activation='relu', name='Conv2D-2'),\n",
    "    Dropout(0.25, name='Dropout-2'),\n",
    "    Conv2D(128, kernel_size=3, activation='relu', name='Conv2D-3'),\n",
    "    Dropout(0.4, name='Dropout-3'),\n",
    "    Flatten(name='flatten'),\n",
    "    Dense(128, activation='relu', name='Dense'),\n",
    "    Dropout(0.4, name='Dropout'),\n",
    "    Dense(10, activation='softmax', name='Output')\n",
    "], name=name)\n",
    "\n",
    "cnn_models = [cnn_model_1, cnn_model_2, cnn_model_3]"
   ]
  },
  {
   "cell_type": "code",
   "execution_count": 30,
   "metadata": {},
   "outputs": [
    {
     "name": "stdout",
     "output_type": "stream",
     "text": [
      "_________________________________________________________________\n",
      "Layer (type)                 Output Shape              Param #   \n",
      "=================================================================\n",
      "Conv2D-1 (Conv2D)            (None, 26, 26, 32)        320       \n",
      "_________________________________________________________________\n",
      "MaxPool (MaxPooling2D)       (None, 13, 13, 32)        0         \n",
      "_________________________________________________________________\n",
      "Dropout (Dropout)            (None, 13, 13, 32)        0         \n",
      "_________________________________________________________________\n",
      "flatten (Flatten)            (None, 5408)              0         \n",
      "_________________________________________________________________\n",
      "Dense (Dense)                (None, 32)                173088    \n",
      "_________________________________________________________________\n",
      "Output (Dense)               (None, 10)                330       \n",
      "=================================================================\n",
      "Total params: 173,738\n",
      "Trainable params: 173,738\n",
      "Non-trainable params: 0\n",
      "_________________________________________________________________\n",
      "_________________________________________________________________\n",
      "Layer (type)                 Output Shape              Param #   \n",
      "=================================================================\n",
      "Conv2D-1 (Conv2D)            (None, 26, 26, 32)        320       \n",
      "_________________________________________________________________\n",
      "MaxPool (MaxPooling2D)       (None, 13, 13, 32)        0         \n",
      "_________________________________________________________________\n",
      "Dropout-1 (Dropout)          (None, 13, 13, 32)        0         \n",
      "_________________________________________________________________\n",
      "Conv2D-2 (Conv2D)            (None, 11, 11, 64)        18496     \n",
      "_________________________________________________________________\n",
      "Dropout-2 (Dropout)          (None, 11, 11, 64)        0         \n",
      "_________________________________________________________________\n",
      "flatten (Flatten)            (None, 7744)              0         \n",
      "_________________________________________________________________\n",
      "Dense (Dense)                (None, 64)                495680    \n",
      "_________________________________________________________________\n",
      "Output (Dense)               (None, 10)                650       \n",
      "=================================================================\n",
      "Total params: 515,146\n",
      "Trainable params: 515,146\n",
      "Non-trainable params: 0\n",
      "_________________________________________________________________\n",
      "_________________________________________________________________\n",
      "Layer (type)                 Output Shape              Param #   \n",
      "=================================================================\n",
      "Conv2D-1 (Conv2D)            (None, 26, 26, 32)        320       \n",
      "_________________________________________________________________\n",
      "MaxPool (MaxPooling2D)       (None, 13, 13, 32)        0         \n",
      "_________________________________________________________________\n",
      "Dropout-1 (Dropout)          (None, 13, 13, 32)        0         \n",
      "_________________________________________________________________\n",
      "Conv2D-2 (Conv2D)            (None, 11, 11, 64)        18496     \n",
      "_________________________________________________________________\n",
      "Dropout-2 (Dropout)          (None, 11, 11, 64)        0         \n",
      "_________________________________________________________________\n",
      "Conv2D-3 (Conv2D)            (None, 9, 9, 128)         73856     \n",
      "_________________________________________________________________\n",
      "Dropout-3 (Dropout)          (None, 9, 9, 128)         0         \n",
      "_________________________________________________________________\n",
      "flatten (Flatten)            (None, 10368)             0         \n",
      "_________________________________________________________________\n",
      "Dense (Dense)                (None, 128)               1327232   \n",
      "_________________________________________________________________\n",
      "Dropout (Dropout)            (None, 128)               0         \n",
      "_________________________________________________________________\n",
      "Output (Dense)               (None, 10)                1290      \n",
      "=================================================================\n",
      "Total params: 1,421,194\n",
      "Trainable params: 1,421,194\n",
      "Non-trainable params: 0\n",
      "_________________________________________________________________\n"
     ]
    }
   ],
   "source": [
    "for model in cnn_models:\n",
    "    model.summary()"
   ]
  },
  {
   "cell_type": "markdown",
   "metadata": {},
   "source": [
    "### b.Fitting model"
   ]
  },
  {
   "cell_type": "code",
   "execution_count": 31,
   "metadata": {},
   "outputs": [
    {
     "name": "stdout",
     "output_type": "stream",
     "text": [
      "Train on 60000 samples, validate on 10000 samples\n",
      "Epoch 1/10\n",
      "60000/60000 [==============================] - 18s 295us/step - loss: 2.1156 - acc: 0.8175 - val_loss: 0.1698 - val_acc: 0.9602\n",
      "Epoch 2/10\n",
      "60000/60000 [==============================] - 18s 295us/step - loss: 0.1571 - acc: 0.9578 - val_loss: 0.1144 - val_acc: 0.9714\n",
      "Epoch 3/10\n",
      "60000/60000 [==============================] - 17s 290us/step - loss: 0.1007 - acc: 0.9717 - val_loss: 0.0960 - val_acc: 0.9754\n",
      "Epoch 4/10\n",
      "60000/60000 [==============================] - 17s 287us/step - loss: 0.0743 - acc: 0.9784 - val_loss: 0.0813 - val_acc: 0.9778\n",
      "Epoch 5/10\n",
      "60000/60000 [==============================] - 19s 324us/step - loss: 0.0572 - acc: 0.9832 - val_loss: 0.0827 - val_acc: 0.9772\n",
      "Epoch 6/10\n",
      "60000/60000 [==============================] - 19s 319us/step - loss: 0.0491 - acc: 0.9850 - val_loss: 0.0923 - val_acc: 0.9778\n",
      "Epoch 7/10\n",
      "60000/60000 [==============================] - 19s 323us/step - loss: 0.0406 - acc: 0.9870 - val_loss: 0.0772 - val_acc: 0.9828\n",
      "Epoch 8/10\n",
      "60000/60000 [==============================] - 19s 313us/step - loss: 0.0354 - acc: 0.9888 - val_loss: 0.0855 - val_acc: 0.9798\n",
      "Epoch 9/10\n",
      "60000/60000 [==============================] - 19s 315us/step - loss: 0.0290 - acc: 0.9904 - val_loss: 0.0807 - val_acc: 0.9812\n",
      "Epoch 10/10\n",
      "60000/60000 [==============================] - 19s 318us/step - loss: 0.0295 - acc: 0.9906 - val_loss: 0.0914 - val_acc: 0.9799\n",
      "Train on 60000 samples, validate on 10000 samples\n",
      "Epoch 1/10\n",
      "60000/60000 [==============================] - 37s 619us/step - loss: 7.4878 - acc: 0.5002 - val_loss: 0.1414 - val_acc: 0.9560\n",
      "Epoch 2/10\n",
      "60000/60000 [==============================] - 36s 605us/step - loss: 0.1307 - acc: 0.9609 - val_loss: 0.0563 - val_acc: 0.9819\n",
      "Epoch 3/10\n",
      "60000/60000 [==============================] - 36s 605us/step - loss: 0.0722 - acc: 0.9780 - val_loss: 0.0434 - val_acc: 0.9854\n",
      "Epoch 4/10\n",
      "60000/60000 [==============================] - 36s 597us/step - loss: 0.0548 - acc: 0.9829 - val_loss: 0.0396 - val_acc: 0.9870\n",
      "Epoch 5/10\n",
      "60000/60000 [==============================] - 37s 610us/step - loss: 0.0408 - acc: 0.9867 - val_loss: 0.0385 - val_acc: 0.9877\n",
      "Epoch 6/10\n",
      "60000/60000 [==============================] - 37s 619us/step - loss: 0.0346 - acc: 0.9889 - val_loss: 0.0407 - val_acc: 0.9865\n",
      "Epoch 7/10\n",
      "60000/60000 [==============================] - 37s 614us/step - loss: 0.0284 - acc: 0.9909 - val_loss: 0.0367 - val_acc: 0.9890\n",
      "Epoch 8/10\n",
      "60000/60000 [==============================] - 36s 603us/step - loss: 0.0238 - acc: 0.9922 - val_loss: 0.0440 - val_acc: 0.9870\n",
      "Epoch 9/10\n",
      "60000/60000 [==============================] - 37s 616us/step - loss: 0.0244 - acc: 0.9921 - val_loss: 0.0370 - val_acc: 0.9877\n",
      "Epoch 10/10\n",
      "60000/60000 [==============================] - 39s 647us/step - loss: 0.0203 - acc: 0.9930 - val_loss: 0.0408 - val_acc: 0.9868\n",
      "Train on 60000 samples, validate on 10000 samples\n",
      "Epoch 1/10\n",
      "60000/60000 [==============================] - 68s 1ms/step - loss: 13.2752 - acc: 0.1760 - val_loss: 12.9397 - val_acc: 0.1971\n",
      "Epoch 2/10\n",
      "60000/60000 [==============================] - 70s 1ms/step - loss: 12.8690 - acc: 0.2015 - val_loss: 12.7367 - val_acc: 0.2096\n",
      "Epoch 3/10\n",
      "60000/60000 [==============================] - 72s 1ms/step - loss: 13.7358 - acc: 0.1477 - val_loss: 13.1841 - val_acc: 0.1820\n",
      "Epoch 4/10\n",
      "60000/60000 [==============================] - 72s 1ms/step - loss: 12.8391 - acc: 0.2034 - val_loss: 12.7059 - val_acc: 0.2117\n",
      "Epoch 5/10\n",
      "60000/60000 [==============================] - 68s 1ms/step - loss: 12.7967 - acc: 0.2061 - val_loss: 12.7059 - val_acc: 0.2117\n",
      "Epoch 6/10\n",
      "60000/60000 [==============================] - 66s 1ms/step - loss: 12.7833 - acc: 0.2069 - val_loss: 12.7059 - val_acc: 0.2117\n",
      "Epoch 7/10\n",
      "60000/60000 [==============================] - 65s 1ms/step - loss: 12.8297 - acc: 0.2040 - val_loss: 12.7252 - val_acc: 0.2105\n",
      "Epoch 8/10\n",
      "60000/60000 [==============================] - 65s 1ms/step - loss: 12.8346 - acc: 0.2037 - val_loss: 12.7204 - val_acc: 0.2108\n",
      "Epoch 9/10\n",
      "60000/60000 [==============================] - 66s 1ms/step - loss: 12.8985 - acc: 0.1997 - val_loss: 13.0653 - val_acc: 0.1894\n",
      "Epoch 10/10\n",
      "60000/60000 [==============================] - 65s 1ms/step - loss: 13.2442 - acc: 0.1783 - val_loss: 13.0911 - val_acc: 0.1878\n"
     ]
    }
   ],
   "source": [
    "# train the models and save results to a dict\n",
    "\n",
    "history_dict = {}\n",
    "\n",
    "for model in cnn_models:\n",
    "    model.compile(\n",
    "        loss='sparse_categorical_crossentropy',\n",
    "        optimizer=Adam(),\n",
    "        metrics=['accuracy']\n",
    "    )\n",
    "    \n",
    "    history = model.fit(\n",
    "        x_train, y_train,\n",
    "        batch_size=batch_size,\n",
    "        epochs=10, verbose=1,\n",
    "        validation_data=(x_validate, y_validate)\n",
    "    )\n",
    "    \n",
    "    history_dict[model.name] = history"
   ]
  },
  {
   "cell_type": "markdown",
   "metadata": {},
   "source": [
    "### c. ploting results of loss and accuracy"
   ]
  },
  {
   "cell_type": "code",
   "execution_count": 32,
   "metadata": {
    "scrolled": true
   },
   "outputs": [
    {
     "data": {
      "image/png": "[encoded data removed]",
      "text/plain": [
       "<matplotlib.figure.Figure at 0x15eeae49320>"
      ]
     },
     "metadata": {
      "needs_background": "light"
     },
     "output_type": "display_data"
    }
   ],
   "source": [
    "fig, (ax1, ax2) = plt.subplots(2, figsize=(8, 6))\n",
    "\n",
    "for history in history_dict:\n",
    "    val_acc = history_dict[history].history['val_acc']\n",
    "    val_loss = history_dict[history].history['val_loss']\n",
    "    ax1.plot(val_acc, label=history)\n",
    "    ax2.plot(val_loss, label=history)\n",
    "    \n",
    "ax1.set_ylabel('validation accuracy')\n",
    "ax2.set_ylabel('validation loss')\n",
    "ax2.set_xlabel('epochs')\n",
    "ax1.legend()\n",
    "ax2.legend()\n",
    "plt.show()"
   ]
  },
  {
   "cell_type": "markdown",
   "metadata": {},
   "source": [
    "We can see that 3rd layer gives very low accuracy results while other 2 layers have very high accuracy results"
   ]
  }
 ],
 "metadata": {
  "kernelspec": {
   "display_name": "Python 3",
   "language": "python",
   "name": "python3"
  },
  "language_info": {
   "codemirror_mode": {
    "name": "ipython",
    "version": 3
   },
   "file_extension": ".py",
   "mimetype": "text/x-python",
   "name": "python",
   "nbconvert_exporter": "python",
   "pygments_lexer": "ipython3",
   "version": "3.6.3"
  }
 },
 "nbformat": 4,
 "nbformat_minor": 2
}
